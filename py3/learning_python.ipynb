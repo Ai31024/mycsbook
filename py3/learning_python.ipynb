{
  "cells": [
    {
      "cell_type": "markdown",
      "metadata": {
        "id": "xOdHJKQCMMpj"
      },
      "source": [
        "This is a starting of python course."
      ]
    },
    {
      "attachments": {},
      "cell_type": "markdown",
      "metadata": {
        "id": "BPqcr4dz2cB8"
      },
      "source": [
        "\n",
        "<h1><b>SECTION 1"
      ]
    },
    {
      "cell_type": "code",
      "execution_count": null,
      "metadata": {
        "colab": {
          "base_uri": "https://localhost:8080/"
        },
        "id": "ew3nNLErML7r",
        "outputId": "8bdc71a5-cd68-43f8-a010-45d4682b113d"
      },
      "outputs": [
        {
          "name": "stdout",
          "output_type": "stream",
          "text": [
            "Hello World!\n"
          ]
        }
      ],
      "source": [
        "print('Hello World!')"
      ]
    },
    {
      "cell_type": "code",
      "execution_count": null,
      "metadata": {
        "colab": {
          "base_uri": "https://localhost:8080/"
        },
        "id": "1kQXXY3NQ_BW",
        "outputId": "0583032f-a56e-4a4f-82c4-3a15730b0557"
      },
      "outputs": [
        {
          "data": {
            "text/plain": [
              "60.0"
            ]
          },
          "execution_count": 2,
          "metadata": {},
          "output_type": "execute_result"
        }
      ],
      "source": [
        "x=60.5\n",
        "y=0.5\n",
        "z=x-y\n",
        "z"
      ]
    },
    {
      "cell_type": "code",
      "execution_count": null,
      "metadata": {
        "colab": {
          "base_uri": "https://localhost:8080/"
        },
        "id": "au8abMBVRY0r",
        "outputId": "a3a999f7-1233-4032-a650-d19ec7f7a9b7"
      },
      "outputs": [
        {
          "name": "stdout",
          "output_type": "stream",
          "text": [
            "60.5-0.5= 60.0\n"
          ]
        }
      ],
      "source": [
        "print('60.5-0.5=',z)"
      ]
    },
    {
      "cell_type": "code",
      "execution_count": null,
      "metadata": {
        "colab": {
          "base_uri": "https://localhost:8080/"
        },
        "id": "3DxvcMjZRoDs",
        "outputId": "d65c56b3-7460-4436-d0c7-435dd3580b4c"
      },
      "outputs": [
        {
          "name": "stdout",
          "output_type": "stream",
          "text": [
            "We have 1 cat and his name is jimmy\n"
          ]
        }
      ],
      "source": [
        "my_cats = 1\n",
        "cat_name = 'jimmy'\n",
        "print('We have', my_cats, 'cat and his name is', cat_name)"
      ]
    },
    {
      "cell_type": "code",
      "execution_count": null,
      "metadata": {
        "colab": {
          "base_uri": "https://localhost:8080/"
        },
        "id": "iSAsHGtJhd2Q",
        "outputId": "b0befca0-055c-476a-f758-910446e48939"
      },
      "outputs": [
        {
          "data": {
            "text/plain": [
              "str"
            ]
          },
          "execution_count": 5,
          "metadata": {},
          "output_type": "execute_result"
        }
      ],
      "source": [
        "type(my_cats)\n",
        "type(cat_name)"
      ]
    },
    {
      "cell_type": "code",
      "execution_count": null,
      "metadata": {
        "colab": {
          "base_uri": "https://localhost:8080/"
        },
        "id": "G5Yk7SHhomRh",
        "outputId": "ddf99ac2-b28d-49e7-fd30-654c4b2f3da1"
      },
      "outputs": [
        {
          "name": "stdout",
          "output_type": "stream",
          "text": [
            "hi, i'am writing python codes!\n"
          ]
        }
      ],
      "source": [
        "print(\"hi, i'am writing python codes!\")"
      ]
    },
    {
      "cell_type": "code",
      "execution_count": null,
      "metadata": {
        "colab": {
          "base_uri": "https://localhost:8080/"
        },
        "id": "C4GXg2L_9D_n",
        "outputId": "5e4471b8-e98d-4a96-ffd2-eea6d35eb92e"
      },
      "outputs": [
        {
          "name": "stdout",
          "output_type": "stream",
          "text": [
            "Sam\n"
          ]
        }
      ],
      "source": [
        "name = \"Sam\"\n",
        "print (name)"
      ]
    },
    {
      "cell_type": "code",
      "execution_count": null,
      "metadata": {
        "colab": {
          "base_uri": "https://localhost:8080/",
          "height": 35
        },
        "id": "Je_U0iDt9RFn",
        "outputId": "2a498c70-e3cc-4561-c4b8-7b3b75f29a6a"
      },
      "outputs": [
        {
          "data": {
            "application/vnd.google.colaboratory.intrinsic+json": {
              "type": "string"
            },
            "text/plain": [
              "'am'"
            ]
          },
          "execution_count": 8,
          "metadata": {},
          "output_type": "execute_result"
        }
      ],
      "source": [
        "last_name = name[1:]\n",
        "last_name"
      ]
    },
    {
      "cell_type": "code",
      "execution_count": null,
      "metadata": {
        "colab": {
          "base_uri": "https://localhost:8080/",
          "height": 35
        },
        "id": "XRc_1hiR-P6_",
        "outputId": "e53a6912-199f-4184-cd7c-78cd0bc0ffd8"
      },
      "outputs": [
        {
          "data": {
            "application/vnd.google.colaboratory.intrinsic+json": {
              "type": "string"
            },
            "text/plain": [
              "'Pam'"
            ]
          },
          "execution_count": 9,
          "metadata": {},
          "output_type": "execute_result"
        }
      ],
      "source": [
        "'P' + last_name"
      ]
    },
    {
      "cell_type": "code",
      "execution_count": null,
      "metadata": {
        "colab": {
          "base_uri": "https://localhost:8080/",
          "height": 35
        },
        "id": "BN_WJAQA_H4M",
        "outputId": "68ed11c1-4d9e-4484-ebb7-2ad60dc8e4ff"
      },
      "outputs": [
        {
          "data": {
            "application/vnd.google.colaboratory.intrinsic+json": {
              "type": "string"
            },
            "text/plain": [
              "'Hello World today is a wonderful day!'"
            ]
          },
          "execution_count": 10,
          "metadata": {},
          "output_type": "execute_result"
        }
      ],
      "source": [
        "x = \"Hello World\"\n",
        "x = x + \" today is a wonderful day!\"\n",
        "x"
      ]
    },
    {
      "cell_type": "code",
      "execution_count": null,
      "metadata": {
        "colab": {
          "base_uri": "https://localhost:8080/"
        },
        "id": "krYNqAQAxAPZ",
        "outputId": "3fd2bd1b-9997-4913-fd59-db096e2bb498"
      },
      "outputs": [
        {
          "name": "stdout",
          "output_type": "stream",
          "text": [
            "Hello everyone, My name is Azam, I'am 25 years old and I live in Ranchi.\n"
          ]
        }
      ],
      "source": [
        "name1 = \"Azam\"\n",
        "age1 = 25\n",
        "livein = \"Ranchi\"\n",
        "print(f\"Hello everyone, My name is {name1}, I'am {age1} years old and I live in {livein}.\")"
      ]
    },
    {
      "cell_type": "code",
      "execution_count": null,
      "metadata": {
        "colab": {
          "base_uri": "https://localhost:8080/"
        },
        "id": "5uudQvtfx8Pc",
        "outputId": "1ce50e13-08f9-411d-f1b8-01ce942e340a"
      },
      "outputs": [
        {
          "name": "stdout",
          "output_type": "stream",
          "text": [
            "Hello everyone, My name is Azam, I am 25 years old and I live in Ranchi.\n"
          ]
        }
      ],
      "source": [
        "print(\"Hello everyone, My name is {n}, I am {a} years old and I live in {l}.\".format(n=\"Azam\",a=25,l=\"Ranchi\"))"
      ]
    },
    {
      "cell_type": "markdown",
      "metadata": {
        "id": "_ylE0TxiPB9D"
      },
      "source": [
        "**LIST**\n",
        "\n",
        "It is a function that store values in order of positions."
      ]
    },
    {
      "cell_type": "markdown",
      "metadata": {
        "id": "q-CcMu08z1IR"
      },
      "source": [
        "Creating an list of element is easily done.\n",
        "\n",
        "x = [ E1, E2, E3 ... En].\n",
        "\n",
        "Here 'x' is containing list of elements E1, E2 till En."
      ]
    },
    {
      "cell_type": "code",
      "execution_count": null,
      "metadata": {
        "id": "jmwuAzvwzu8W"
      },
      "outputs": [],
      "source": [
        "list1=[0,1,2,3,4,5,6,7,8,9]"
      ]
    },
    {
      "cell_type": "code",
      "execution_count": null,
      "metadata": {
        "colab": {
          "base_uri": "https://localhost:8080/"
        },
        "id": "RaXKyIVn365k",
        "outputId": "a414aa92-c6b0-43d5-a5d9-5d874b9b9968"
      },
      "outputs": [
        {
          "data": {
            "text/plain": [
              "[0, 1, 2, 3, 4, 5, 6, 7, 8, 9]"
            ]
          },
          "execution_count": 14,
          "metadata": {},
          "output_type": "execute_result"
        }
      ],
      "source": [
        "# To call list we simply write the 'x'.\n",
        "list1"
      ]
    },
    {
      "cell_type": "markdown",
      "metadata": {
        "id": "2yWN8Jzwsb8W"
      },
      "source": [
        "len() function shows the length of elements in an list."
      ]
    },
    {
      "cell_type": "code",
      "execution_count": null,
      "metadata": {
        "colab": {
          "base_uri": "https://localhost:8080/"
        },
        "id": "wVd4vRv2uZOn",
        "outputId": "59705572-beca-4d29-c40f-5b52c226e309"
      },
      "outputs": [
        {
          "data": {
            "text/plain": [
              "10"
            ]
          },
          "execution_count": 15,
          "metadata": {},
          "output_type": "execute_result"
        }
      ],
      "source": [
        "len(list1)"
      ]
    },
    {
      "cell_type": "markdown",
      "metadata": {
        "id": "1sMAcgBNsyMy"
      },
      "source": [
        "x [ a : b : c ] by typing this we call out the elements inside of 'x' list as follows, element from x list is called out starting from \"a\" position, ending before \"b\" position and calling in steps of \"c\" steps.\n",
        "\n",
        "We should note that every counting is started from 0. But in practical world we start counting from 1. Therefore an analogy can be made of considering 0 as 1.\n",
        "\n",
        "If you don't know how many elements are there in a list but want to call the last element then you should call **x [ -1 ]**. By using **-1** you are calling the last element even without knowing it's position. If you want to know the second last element then you should use this **[ -2 ]**. Basically using negetive number to call position picks the element from it's ending side and calling positive number picks elements from it's starting side."
      ]
    },
    {
      "cell_type": "code",
      "execution_count": null,
      "metadata": {
        "colab": {
          "base_uri": "https://localhost:8080/"
        },
        "id": "pPojVMVful-u",
        "outputId": "26c16936-0dac-4e37-b6a1-36712df4ecb5"
      },
      "outputs": [
        {
          "data": {
            "text/plain": [
              "[0, 1, 2, 3, 4, 5, 6, 7, 8, 9]"
            ]
          },
          "execution_count": 16,
          "metadata": {},
          "output_type": "execute_result"
        }
      ],
      "source": [
        "list1[0:10:1]"
      ]
    },
    {
      "cell_type": "markdown",
      "metadata": {
        "id": "Mt0o_L7yvgT7"
      },
      "source": [
        "We can use a trick in this function as mentioned in comments below"
      ]
    },
    {
      "cell_type": "code",
      "execution_count": null,
      "metadata": {
        "colab": {
          "base_uri": "https://localhost:8080/"
        },
        "id": "PFXkWVn1wBRp",
        "outputId": "2aa37123-f2c9-43d6-eefd-5c24c160601e"
      },
      "outputs": [
        {
          "data": {
            "text/plain": [
              "[0, 1, 2, 3, 4, 5, 6, 7, 8, 9]"
            ]
          },
          "execution_count": 17,
          "metadata": {},
          "output_type": "execute_result"
        }
      ],
      "source": [
        "# x = [ n :  :  ] by typing in this way we call elements in 'x' starting from the nth position, going till (also including) the end position in steps of 1.\n",
        "\n",
        "list1[ 0 :  :  ]"
      ]
    },
    {
      "cell_type": "code",
      "execution_count": null,
      "metadata": {
        "colab": {
          "base_uri": "https://localhost:8080/"
        },
        "id": "YdvnYPffxpbz",
        "outputId": "732bfe50-93bf-4ad5-8e5c-2eb37cbeb59c"
      },
      "outputs": [
        {
          "data": {
            "text/plain": [
              "[0, 1, 2, 3, 4]"
            ]
          },
          "execution_count": 18,
          "metadata": {},
          "output_type": "execute_result"
        }
      ],
      "source": [
        "# x = [  : n :  ] By typing in this way we call elements in 'x' starting from its initial position, going till (not including) the nth position in steps of 1.\n",
        "\n",
        "list1[  : 5 :  ]"
      ]
    },
    {
      "cell_type": "code",
      "execution_count": null,
      "metadata": {
        "colab": {
          "base_uri": "https://localhost:8080/"
        },
        "id": "A-_voYZjzLXv",
        "outputId": "ae987d9d-6c76-4b67-f503-3f93e012cf23"
      },
      "outputs": [
        {
          "data": {
            "text/plain": [
              "[0, 2, 4, 6, 8]"
            ]
          },
          "execution_count": 19,
          "metadata": {},
          "output_type": "execute_result"
        }
      ],
      "source": [
        "# x = [  :  : n ] by typing in this way we call elements in 'x' staring from its initial position, going till (also including) the end position in steps of 'n'\n",
        "\n",
        "list1[  :  : 2 ]"
      ]
    },
    {
      "cell_type": "markdown",
      "metadata": {
        "id": "tifvgTSpuE6B"
      },
      "source": [
        "we can join together (conjugate) two different lists by simply adding a plus sign between those lists."
      ]
    },
    {
      "cell_type": "code",
      "execution_count": null,
      "metadata": {
        "colab": {
          "base_uri": "https://localhost:8080/"
        },
        "id": "epkusqkb1ZQn",
        "outputId": "aede4d9b-d2d8-44ad-bb9e-9248794079fd"
      },
      "outputs": [
        {
          "data": {
            "text/plain": [
              "[0, 1, 2, 3, 4, 5, 6, 7, 8, 9, 10, 11, 12, 13, 14, 15, 16, 17, 18, 19]"
            ]
          },
          "execution_count": 20,
          "metadata": {},
          "output_type": "execute_result"
        }
      ],
      "source": [
        "list2=[10,11,12,13,14,15,16,17,18,19]\n",
        "list3=list1+list2\n",
        "list3"
      ]
    },
    {
      "cell_type": "markdown",
      "metadata": {
        "id": "ySlW1dttr5Qc"
      },
      "source": [
        ".append(x) is a function that inserts an element 'x' at the last of list."
      ]
    },
    {
      "cell_type": "code",
      "execution_count": null,
      "metadata": {
        "id": "Pg8LCrN72Ul3"
      },
      "outputs": [],
      "source": [
        "list3.append(20)"
      ]
    },
    {
      "cell_type": "code",
      "execution_count": null,
      "metadata": {
        "colab": {
          "base_uri": "https://localhost:8080/"
        },
        "id": "3e2ZeapX2cCY",
        "outputId": "3562bb20-8cb0-488a-833d-2bdbc3f3a2b9"
      },
      "outputs": [
        {
          "data": {
            "text/plain": [
              "[0, 1, 2, 3, 4, 5, 6, 7, 8, 9, 10, 11, 12, 13, 14, 15, 16, 17, 18, 19, 20]"
            ]
          },
          "execution_count": 22,
          "metadata": {},
          "output_type": "execute_result"
        }
      ],
      "source": [
        "list3"
      ]
    },
    {
      "cell_type": "markdown",
      "metadata": {
        "id": "yr3y0902rsdo"
      },
      "source": [
        ".pop() is a function which removes the last element from the x = [ ] list."
      ]
    },
    {
      "cell_type": "code",
      "execution_count": null,
      "metadata": {
        "colab": {
          "base_uri": "https://localhost:8080/"
        },
        "id": "Qw4b2I4g2deI",
        "outputId": "0684736b-479a-4f4c-89d2-1bd4cb15a644"
      },
      "outputs": [
        {
          "data": {
            "text/plain": [
              "20"
            ]
          },
          "execution_count": 23,
          "metadata": {},
          "output_type": "execute_result"
        }
      ],
      "source": [
        "#list3n holds the removed element from list3\n",
        "list3n = list3.pop()\n",
        "#calling list3n returns the removed element from list3 list.\n",
        "list3n"
      ]
    },
    {
      "cell_type": "code",
      "execution_count": null,
      "metadata": {
        "colab": {
          "base_uri": "https://localhost:8080/"
        },
        "id": "8Umrr0Km2ndo",
        "outputId": "f03cefac-c660-4e16-c9d5-fa6bee437a51"
      },
      "outputs": [
        {
          "data": {
            "text/plain": [
              "[0, 1, 2, 3, 4, 5, 6, 7, 8, 9, 10, 11, 12, 13, 14, 15, 16, 17, 18, 19]"
            ]
          },
          "execution_count": 24,
          "metadata": {},
          "output_type": "execute_result"
        }
      ],
      "source": [
        "#here we can see the last element (i.e '20') is now permenently removed from list3\n",
        "list3"
      ]
    },
    {
      "cell_type": "markdown",
      "metadata": {
        "id": "wWf73NR-rXuZ"
      },
      "source": [
        ".pop(n) is a function which removes the n numbered element from x = [ ] list."
      ]
    },
    {
      "cell_type": "code",
      "execution_count": null,
      "metadata": {
        "colab": {
          "base_uri": "https://localhost:8080/"
        },
        "id": "0YnKDdZh2qUg",
        "outputId": "8a42ff72-9fc6-4816-d8ae-391b605cb2b6"
      },
      "outputs": [
        {
          "data": {
            "text/plain": [
              "0"
            ]
          },
          "execution_count": 25,
          "metadata": {},
          "output_type": "execute_result"
        }
      ],
      "source": [
        "#list3n1 holds the removed element from the 0th position\n",
        "list3n1=list3.pop(0)\n",
        "list3n1"
      ]
    },
    {
      "cell_type": "code",
      "execution_count": null,
      "metadata": {
        "colab": {
          "base_uri": "https://localhost:8080/"
        },
        "id": "Jwl9U6O2223Y",
        "outputId": "ca337a9f-8cf5-4915-b45f-4265741e1243"
      },
      "outputs": [
        {
          "data": {
            "text/plain": [
              "[1, 2, 3, 4, 5, 6, 7, 8, 9, 10, 11, 12, 13, 14, 15, 16, 17, 18, 19]"
            ]
          },
          "execution_count": 26,
          "metadata": {},
          "output_type": "execute_result"
        }
      ],
      "source": [
        "#here we can see the element from 0th position is now permenently removed from list3\n",
        "list3"
      ]
    },
    {
      "cell_type": "markdown",
      "metadata": {
        "id": "VxquTUPkspni"
      },
      "source": [
        "We can replace any individual elements from an list."
      ]
    },
    {
      "cell_type": "code",
      "execution_count": null,
      "metadata": {
        "colab": {
          "base_uri": "https://localhost:8080/"
        },
        "id": "RR67U2FRs4w1",
        "outputId": "14275452-7c42-4b40-88e4-e8b5f8d64028"
      },
      "outputs": [
        {
          "data": {
            "text/plain": [
              "[1, 3, 3, 4, 5, 6]"
            ]
          },
          "execution_count": 27,
          "metadata": {},
          "output_type": "execute_result"
        }
      ],
      "source": [
        "#Here is an list. Notice how there are two 3s in it.\n",
        "x = [1,3,3,4,5,6]\n",
        "x"
      ]
    },
    {
      "cell_type": "code",
      "execution_count": null,
      "metadata": {
        "colab": {
          "base_uri": "https://localhost:8080/"
        },
        "id": "vPYJ7TO_tWqm",
        "outputId": "f376b4b9-92b1-4d59-d1ee-53ed1d6713ad"
      },
      "outputs": [
        {
          "data": {
            "text/plain": [
              "[1, 2, 3, 4, 5, 6]"
            ]
          },
          "execution_count": 28,
          "metadata": {},
          "output_type": "execute_result"
        }
      ],
      "source": [
        "#we will replace one 3 into 2.\n",
        "x[1]=2\n",
        "x"
      ]
    },
    {
      "cell_type": "markdown",
      "metadata": {
        "id": "TBgGqoDpuzEj"
      },
      "source": [
        "Now we will see this feature in changing multiple elements from list.\n"
      ]
    },
    {
      "cell_type": "code",
      "execution_count": null,
      "metadata": {
        "colab": {
          "base_uri": "https://localhost:8080/"
        },
        "id": "HtrxoZQuuW5a",
        "outputId": "7cf316ca-a5c7-49ef-a09e-4e22bfe6415d"
      },
      "outputs": [
        {
          "data": {
            "text/plain": [
              "[1, 1, 2, 3, 4, 5, 5, 6, 8, 8]"
            ]
          },
          "execution_count": 29,
          "metadata": {},
          "output_type": "execute_result"
        }
      ],
      "source": [
        "#notice how there are multiple repeated entries in here.\n",
        "y=[1,1,2,3,4,5,5,6,8,8]\n",
        "y"
      ]
    },
    {
      "cell_type": "code",
      "execution_count": null,
      "metadata": {
        "colab": {
          "base_uri": "https://localhost:8080/"
        },
        "id": "hnrXaDDUvP_s",
        "outputId": "40516446-8ce9-4337-c0d4-9f36f808477f"
      },
      "outputs": [
        {
          "data": {
            "text/plain": [
              "[0, 1, 2, 3, 4, 5, 6, 7, 8, 9]"
            ]
          },
          "execution_count": 30,
          "metadata": {},
          "output_type": "execute_result"
        }
      ],
      "source": [
        "#lets correct all of it.\n",
        "y[0] = 0\n",
        "y[6] = 6\n",
        "y[7] = 7\n",
        "y[9] = 9\n",
        "y"
      ]
    },
    {
      "cell_type": "markdown",
      "metadata": {
        "id": "JkMYtJrDwm34"
      },
      "source": [
        "We have a feature called \"**.sort()**\". This feature automatically sorts elements inside list in accending order by default."
      ]
    },
    {
      "cell_type": "code",
      "execution_count": null,
      "metadata": {
        "colab": {
          "base_uri": "https://localhost:8080/"
        },
        "id": "Sn3pU-7Zwhhr",
        "outputId": "b7c96447-725a-4c1f-9d39-e4f099ee7ea3"
      },
      "outputs": [
        {
          "data": {
            "text/plain": [
              "[0, 2, 1, 3, 5, 4, 7, 6, 8, 9]"
            ]
          },
          "execution_count": 31,
          "metadata": {},
          "output_type": "execute_result"
        }
      ],
      "source": [
        "#creating jumbled arrangement of numbers.\n",
        "a = [0,2,1,3,5,4,7,6,8,9]\n",
        "a"
      ]
    },
    {
      "cell_type": "code",
      "execution_count": null,
      "metadata": {
        "colab": {
          "base_uri": "https://localhost:8080/"
        },
        "id": "v_oqP2iKylD1",
        "outputId": "7ac6a80e-bbe1-43d9-9ec8-82aafad9ed9d"
      },
      "outputs": [
        {
          "data": {
            "text/plain": [
              "[0, 1, 2, 3, 4, 5, 6, 7, 8, 9]"
            ]
          },
          "execution_count": 32,
          "metadata": {},
          "output_type": "execute_result"
        }
      ],
      "source": [
        "#let's sort these elements\n",
        "a.sort()\n",
        "a"
      ]
    },
    {
      "cell_type": "code",
      "execution_count": null,
      "metadata": {
        "colab": {
          "base_uri": "https://localhost:8080/"
        },
        "id": "lYr9SJ_gyr2F",
        "outputId": "f2389cd8-49de-4671-fac1-33b30cc05755"
      },
      "outputs": [
        {
          "data": {
            "text/plain": [
              "['a', 'c', 'b', 'e', 'z', 'd']"
            ]
          },
          "execution_count": 33,
          "metadata": {},
          "output_type": "execute_result"
        }
      ],
      "source": [
        "#creating jumbled arrangement of letters.\n",
        "b = ['a','c','b','e','z','d']\n",
        "b"
      ]
    },
    {
      "cell_type": "code",
      "execution_count": null,
      "metadata": {
        "colab": {
          "base_uri": "https://localhost:8080/"
        },
        "id": "6oZ0HZbWzBov",
        "outputId": "120d95e5-fc6f-4743-c318-bfc2a8faf71e"
      },
      "outputs": [
        {
          "data": {
            "text/plain": [
              "['a', 'b', 'c', 'd', 'e', 'z']"
            ]
          },
          "execution_count": 34,
          "metadata": {},
          "output_type": "execute_result"
        }
      ],
      "source": [
        "#let's sort these elements\n",
        "b.sort()\n",
        "b"
      ]
    },
    {
      "cell_type": "code",
      "execution_count": null,
      "metadata": {
        "colab": {
          "base_uri": "https://localhost:8080/"
        },
        "id": "6nd3NhNYzIPW",
        "outputId": "b9ca71df-db62-4ea8-c432-70ce213cecd6"
      },
      "outputs": [
        {
          "data": {
            "text/plain": [
              "['a', 'b', 'r', 'dd', 'eb', 'ea']"
            ]
          },
          "execution_count": 35,
          "metadata": {},
          "output_type": "execute_result"
        }
      ],
      "source": [
        "#multiple letters can also be arranged in accending order by using sort fuction.\n",
        "c=['a','b','r','dd','eb','ea']\n",
        "c"
      ]
    },
    {
      "cell_type": "code",
      "execution_count": null,
      "metadata": {
        "colab": {
          "base_uri": "https://localhost:8080/"
        },
        "id": "u8j5Xguw0EhS",
        "outputId": "658cba06-c99f-4c2a-84fe-674aa7bdbfbe"
      },
      "outputs": [
        {
          "data": {
            "text/plain": [
              "['a', 'b', 'dd', 'ea', 'eb', 'r']"
            ]
          },
          "execution_count": 36,
          "metadata": {},
          "output_type": "execute_result"
        }
      ],
      "source": [
        "#here is sorted multiple letters\n",
        "c.sort()\n",
        "c"
      ]
    },
    {
      "cell_type": "markdown",
      "metadata": {
        "id": "Ouo1gLuv1OKE"
      },
      "source": [
        "In order to reverse the arrangement, We will use **.reverse()** function. Note that **.reverse()** function does not strictly arrange elements in decending order, but it reverses the arrangement. If reverse is done to a list for two time, it will go back to it's original arrangement."
      ]
    },
    {
      "cell_type": "code",
      "execution_count": null,
      "metadata": {
        "colab": {
          "base_uri": "https://localhost:8080/"
        },
        "id": "oRVNJoAK1tw_",
        "outputId": "34ed25d8-d582-4090-9235-ac4fdcfbc36f"
      },
      "outputs": [
        {
          "data": {
            "text/plain": [
              "[9, 8, 7, 6, 5, 4, 3, 2, 1, 0]"
            ]
          },
          "execution_count": 37,
          "metadata": {},
          "output_type": "execute_result"
        }
      ],
      "source": [
        "#lets us reverse previous three list.\n",
        "a.reverse()\n",
        "a"
      ]
    },
    {
      "cell_type": "code",
      "execution_count": null,
      "metadata": {
        "colab": {
          "base_uri": "https://localhost:8080/"
        },
        "id": "Owsac1G_47DG",
        "outputId": "729f1334-da73-404b-ade8-a65cfa7cbc4e"
      },
      "outputs": [
        {
          "data": {
            "text/plain": [
              "[0, 1, 2, 3, 4, 5, 6, 7, 8, 9]"
            ]
          },
          "execution_count": 38,
          "metadata": {},
          "output_type": "execute_result"
        }
      ],
      "source": [
        "#reversing two times will make change it back to it's original state.\n",
        "a.reverse()\n",
        "a"
      ]
    },
    {
      "cell_type": "code",
      "execution_count": null,
      "metadata": {
        "colab": {
          "base_uri": "https://localhost:8080/"
        },
        "id": "J46lNdFu2WQQ",
        "outputId": "97749633-0020-446c-a9de-5e440f408314"
      },
      "outputs": [
        {
          "data": {
            "text/plain": [
              "['z', 'e', 'd', 'c', 'b', 'a']"
            ]
          },
          "execution_count": 39,
          "metadata": {},
          "output_type": "execute_result"
        }
      ],
      "source": [
        "b.reverse()\n",
        "b"
      ]
    },
    {
      "cell_type": "code",
      "execution_count": null,
      "metadata": {
        "colab": {
          "base_uri": "https://localhost:8080/"
        },
        "id": "j62OsXsq2ZxI",
        "outputId": "a72516b8-beec-4e22-faa5-baeda3e9ec43"
      },
      "outputs": [
        {
          "data": {
            "text/plain": [
              "['r', 'eb', 'ea', 'dd', 'b', 'a']"
            ]
          },
          "execution_count": 40,
          "metadata": {},
          "output_type": "execute_result"
        }
      ],
      "source": [
        "c.reverse()\n",
        "c"
      ]
    },
    {
      "cell_type": "markdown",
      "metadata": {
        "id": "0g9iDUAWie4J"
      },
      "source": [
        "List can also be nested with another lists."
      ]
    },
    {
      "cell_type": "code",
      "execution_count": null,
      "metadata": {
        "id": "2Et-Vr2nioah"
      },
      "outputs": [],
      "source": [
        "list_nest=[a,b,c]"
      ]
    },
    {
      "cell_type": "code",
      "execution_count": null,
      "metadata": {
        "colab": {
          "base_uri": "https://localhost:8080/"
        },
        "id": "tX7sWA2cjFXZ",
        "outputId": "0757475a-9205-495d-d4b0-b57bfcae3ac0"
      },
      "outputs": [
        {
          "data": {
            "text/plain": [
              "[[0, 1, 2, 3, 4, 5, 6, 7, 8, 9],\n",
              " ['z', 'e', 'd', 'c', 'b', 'a'],\n",
              " ['r', 'eb', 'ea', 'dd', 'b', 'a']]"
            ]
          },
          "execution_count": 42,
          "metadata": {},
          "output_type": "execute_result"
        }
      ],
      "source": [
        "list_nest"
      ]
    },
    {
      "cell_type": "markdown",
      "metadata": {
        "id": "f4IccriTaYWM"
      },
      "source": [
        "**Dictionary**\n",
        "\n",
        "This is a feature that holds a value for a key. It can hold any datatype as you can see in examples below. Dictionaries are more useful than list because you can call the value by calling its associated keyword rather than remembering its position in list."
      ]
    },
    {
      "cell_type": "markdown",
      "metadata": {
        "id": "39Gls6izProT"
      },
      "source": [
        "Its is written in this format:\n",
        "\n",
        "my_dit = {'key1':'value1', 'key2':'value2', 'key3':'value3'}"
      ]
    },
    {
      "cell_type": "markdown",
      "metadata": {
        "id": "F4Mte61uhODX"
      },
      "source": [
        "It can hold string."
      ]
    },
    {
      "cell_type": "code",
      "execution_count": null,
      "metadata": {
        "id": "H0ciEzkgbWmg"
      },
      "outputs": [],
      "source": [
        "my_dit = {'key1':'value1', 'key2':'value2', 'key3':'value3'}"
      ]
    },
    {
      "cell_type": "code",
      "execution_count": null,
      "metadata": {
        "colab": {
          "base_uri": "https://localhost:8080/",
          "height": 35
        },
        "id": "ywytIfArb6_Y",
        "outputId": "a0840802-25d4-4b98-aae7-3a2271785229"
      },
      "outputs": [
        {
          "data": {
            "application/vnd.google.colaboratory.intrinsic+json": {
              "type": "string"
            },
            "text/plain": [
              "'value1'"
            ]
          },
          "execution_count": 44,
          "metadata": {},
          "output_type": "execute_result"
        }
      ],
      "source": [
        "my_dit ['key1']"
      ]
    },
    {
      "cell_type": "code",
      "execution_count": null,
      "metadata": {
        "colab": {
          "base_uri": "https://localhost:8080/",
          "height": 35
        },
        "id": "hJnCc0U2cBFb",
        "outputId": "693ff311-598c-4ab8-c392-a330f5779450"
      },
      "outputs": [
        {
          "data": {
            "application/vnd.google.colaboratory.intrinsic+json": {
              "type": "string"
            },
            "text/plain": [
              "'value2'"
            ]
          },
          "execution_count": 45,
          "metadata": {},
          "output_type": "execute_result"
        }
      ],
      "source": [
        "my_dit ['key2']"
      ]
    },
    {
      "cell_type": "code",
      "execution_count": null,
      "metadata": {
        "colab": {
          "base_uri": "https://localhost:8080/",
          "height": 35
        },
        "id": "dBPp6UTmcFOT",
        "outputId": "1c376ba0-0996-4eb3-cb55-26bd6775275b"
      },
      "outputs": [
        {
          "data": {
            "application/vnd.google.colaboratory.intrinsic+json": {
              "type": "string"
            },
            "text/plain": [
              "'value3'"
            ]
          },
          "execution_count": 46,
          "metadata": {},
          "output_type": "execute_result"
        }
      ],
      "source": [
        "my_dit ['key3']"
      ]
    },
    {
      "cell_type": "markdown",
      "metadata": {
        "id": "LMVtxEBehTT9"
      },
      "source": [
        "It can hold decimals."
      ]
    },
    {
      "cell_type": "code",
      "execution_count": null,
      "metadata": {
        "id": "nehluJ10cIc7"
      },
      "outputs": [],
      "source": [
        "price_lookup = {'apple':100,'banana':20,'anaar':200}"
      ]
    },
    {
      "cell_type": "code",
      "execution_count": null,
      "metadata": {
        "colab": {
          "base_uri": "https://localhost:8080/"
        },
        "id": "tap4iWzygGzc",
        "outputId": "bb571b1d-5cd5-4d36-b72f-cc47e38ecae6"
      },
      "outputs": [
        {
          "data": {
            "text/plain": [
              "100"
            ]
          },
          "execution_count": 48,
          "metadata": {},
          "output_type": "execute_result"
        }
      ],
      "source": [
        "price_lookup['apple']"
      ]
    },
    {
      "cell_type": "code",
      "execution_count": null,
      "metadata": {
        "colab": {
          "base_uri": "https://localhost:8080/"
        },
        "id": "d2fZaOmdgLpp",
        "outputId": "950e42e3-cc9e-4b66-8706-207b86932003"
      },
      "outputs": [
        {
          "data": {
            "text/plain": [
              "20"
            ]
          },
          "execution_count": 49,
          "metadata": {},
          "output_type": "execute_result"
        }
      ],
      "source": [
        "price_lookup['banana']"
      ]
    },
    {
      "cell_type": "code",
      "execution_count": null,
      "metadata": {
        "colab": {
          "base_uri": "https://localhost:8080/"
        },
        "id": "Xd1zSmJpgPzZ",
        "outputId": "aca55c1e-e66f-4780-b754-f1d5125606ae"
      },
      "outputs": [
        {
          "data": {
            "text/plain": [
              "200"
            ]
          },
          "execution_count": 50,
          "metadata": {},
          "output_type": "execute_result"
        }
      ],
      "source": [
        "price_lookup['anaar']"
      ]
    },
    {
      "cell_type": "markdown",
      "metadata": {
        "id": "GAx5Y6CVhaz8"
      },
      "source": [
        "It can hold floats."
      ]
    },
    {
      "cell_type": "code",
      "execution_count": null,
      "metadata": {
        "id": "NTMuOR7RgUFJ"
      },
      "outputs": [],
      "source": [
        "price_float={'stock1':20.3, 'stock2':32.4, 'stock3':54.3}"
      ]
    },
    {
      "cell_type": "code",
      "execution_count": null,
      "metadata": {
        "colab": {
          "base_uri": "https://localhost:8080/"
        },
        "id": "H-5V6JEFgtqR",
        "outputId": "132b82d9-c618-4b30-f20c-37b568cbe2a6"
      },
      "outputs": [
        {
          "data": {
            "text/plain": [
              "20.3"
            ]
          },
          "execution_count": 52,
          "metadata": {},
          "output_type": "execute_result"
        }
      ],
      "source": [
        "price_float['stock1']"
      ]
    },
    {
      "cell_type": "code",
      "execution_count": null,
      "metadata": {
        "colab": {
          "base_uri": "https://localhost:8080/"
        },
        "id": "EGfVGQRegxSD",
        "outputId": "ed66cc21-287c-4525-c2a3-d6d9a4c06429"
      },
      "outputs": [
        {
          "data": {
            "text/plain": [
              "32.4"
            ]
          },
          "execution_count": 53,
          "metadata": {},
          "output_type": "execute_result"
        }
      ],
      "source": [
        "price_float['stock2']"
      ]
    },
    {
      "cell_type": "code",
      "execution_count": null,
      "metadata": {
        "colab": {
          "base_uri": "https://localhost:8080/"
        },
        "id": "GVFxeR3Yg2wZ",
        "outputId": "889f2f16-db82-4933-eced-374d05097e37"
      },
      "outputs": [
        {
          "data": {
            "text/plain": [
              "54.3"
            ]
          },
          "execution_count": 54,
          "metadata": {},
          "output_type": "execute_result"
        }
      ],
      "source": [
        "price_float['stock3']"
      ]
    },
    {
      "cell_type": "markdown",
      "metadata": {
        "id": "nFRC0_hOhfjh"
      },
      "source": [
        "It can also hold every datatype at once."
      ]
    },
    {
      "cell_type": "code",
      "execution_count": null,
      "metadata": {
        "id": "0tURoMBIg5qB"
      },
      "outputs": [],
      "source": [
        "all_type={'strings':'Azam','decimals':1997,'floats':15.01}"
      ]
    },
    {
      "cell_type": "code",
      "execution_count": null,
      "metadata": {
        "colab": {
          "base_uri": "https://localhost:8080/",
          "height": 35
        },
        "id": "G5-f3wQ1h6pz",
        "outputId": "ccf11eea-9bd1-44d3-ba2a-f1066ae5b04c"
      },
      "outputs": [
        {
          "data": {
            "application/vnd.google.colaboratory.intrinsic+json": {
              "type": "string"
            },
            "text/plain": [
              "'Azam'"
            ]
          },
          "execution_count": 56,
          "metadata": {},
          "output_type": "execute_result"
        }
      ],
      "source": [
        "all_type['strings']"
      ]
    },
    {
      "cell_type": "code",
      "execution_count": null,
      "metadata": {
        "colab": {
          "base_uri": "https://localhost:8080/"
        },
        "id": "H_zSE2aIh-NH",
        "outputId": "1961b3bd-e51e-4e64-a993-3c96961e9559"
      },
      "outputs": [
        {
          "data": {
            "text/plain": [
              "1997"
            ]
          },
          "execution_count": 57,
          "metadata": {},
          "output_type": "execute_result"
        }
      ],
      "source": [
        "all_type['decimals']"
      ]
    },
    {
      "cell_type": "code",
      "execution_count": null,
      "metadata": {
        "colab": {
          "base_uri": "https://localhost:8080/"
        },
        "id": "GRAdu9G5iBug",
        "outputId": "555093b2-ed48-491c-bb9b-e0b0b23bfba7"
      },
      "outputs": [
        {
          "data": {
            "text/plain": [
              "15.01"
            ]
          },
          "execution_count": 58,
          "metadata": {},
          "output_type": "execute_result"
        }
      ],
      "source": [
        "all_type['floats']"
      ]
    },
    {
      "cell_type": "markdown",
      "metadata": {
        "id": "Q6V59AXIiO6M"
      },
      "source": [
        "And just like list, it can also be nested with other dictionaries and it can also be nested with lists."
      ]
    },
    {
      "cell_type": "code",
      "execution_count": null,
      "metadata": {
        "id": "6jEDw68iiFHA"
      },
      "outputs": [],
      "source": [
        "dit_nest={'k1':'normal','k2':['l','i','s','t'], 'k3':{'inkey1':'100','inkey2':'nest_dit'}}"
      ]
    },
    {
      "cell_type": "code",
      "execution_count": null,
      "metadata": {
        "colab": {
          "base_uri": "https://localhost:8080/"
        },
        "id": "pOEK5vWekxmp",
        "outputId": "fc0101ac-090b-4121-c6d2-8e99cc290a5b"
      },
      "outputs": [
        {
          "data": {
            "text/plain": [
              "{'k1': 'normal',\n",
              " 'k2': ['l', 'i', 's', 't'],\n",
              " 'k3': {'inkey1': '100', 'inkey2': 'nest_dit'}}"
            ]
          },
          "execution_count": 60,
          "metadata": {},
          "output_type": "execute_result"
        }
      ],
      "source": [
        "dit_nest"
      ]
    },
    {
      "cell_type": "code",
      "execution_count": null,
      "metadata": {
        "colab": {
          "base_uri": "https://localhost:8080/",
          "height": 35
        },
        "id": "LiCuU48bk0e8",
        "outputId": "6825d37f-8b1d-4a3c-c64a-60180acc1f50"
      },
      "outputs": [
        {
          "data": {
            "application/vnd.google.colaboratory.intrinsic+json": {
              "type": "string"
            },
            "text/plain": [
              "'normal'"
            ]
          },
          "execution_count": 61,
          "metadata": {},
          "output_type": "execute_result"
        }
      ],
      "source": [
        "dit_nest['k1']"
      ]
    },
    {
      "cell_type": "code",
      "execution_count": null,
      "metadata": {
        "colab": {
          "base_uri": "https://localhost:8080/"
        },
        "id": "Hou5qmaxk6dk",
        "outputId": "4c0d4ced-e7b8-4371-e328-78fbdc8deb9f"
      },
      "outputs": [
        {
          "data": {
            "text/plain": [
              "['l', 'i', 's', 't']"
            ]
          },
          "execution_count": 62,
          "metadata": {},
          "output_type": "execute_result"
        }
      ],
      "source": [
        "dit_nest['k2']"
      ]
    },
    {
      "cell_type": "code",
      "execution_count": null,
      "metadata": {
        "colab": {
          "base_uri": "https://localhost:8080/",
          "height": 35
        },
        "id": "BncdEzYhlQqV",
        "outputId": "193c0a78-151a-4ba6-dcef-a479ab1701eb"
      },
      "outputs": [
        {
          "data": {
            "application/vnd.google.colaboratory.intrinsic+json": {
              "type": "string"
            },
            "text/plain": [
              "'l'"
            ]
          },
          "execution_count": 63,
          "metadata": {},
          "output_type": "execute_result"
        }
      ],
      "source": [
        "dit_nest['k2'][0]"
      ]
    },
    {
      "cell_type": "code",
      "execution_count": null,
      "metadata": {
        "colab": {
          "base_uri": "https://localhost:8080/",
          "height": 35
        },
        "id": "1h7Hi7JclY-r",
        "outputId": "a48a93be-1750-4bbc-f1f0-f28aeb8176e3"
      },
      "outputs": [
        {
          "data": {
            "application/vnd.google.colaboratory.intrinsic+json": {
              "type": "string"
            },
            "text/plain": [
              "'i'"
            ]
          },
          "execution_count": 64,
          "metadata": {},
          "output_type": "execute_result"
        }
      ],
      "source": [
        "dit_nest['k2'][1]"
      ]
    },
    {
      "cell_type": "code",
      "execution_count": null,
      "metadata": {
        "colab": {
          "base_uri": "https://localhost:8080/",
          "height": 35
        },
        "id": "Qtsbg5BlleFr",
        "outputId": "12256691-1f37-4390-c662-81811896d5e1"
      },
      "outputs": [
        {
          "data": {
            "application/vnd.google.colaboratory.intrinsic+json": {
              "type": "string"
            },
            "text/plain": [
              "'s'"
            ]
          },
          "execution_count": 65,
          "metadata": {},
          "output_type": "execute_result"
        }
      ],
      "source": [
        "dit_nest['k2'][2]"
      ]
    },
    {
      "cell_type": "code",
      "execution_count": null,
      "metadata": {
        "colab": {
          "base_uri": "https://localhost:8080/",
          "height": 35
        },
        "id": "UqbHy2lllj1z",
        "outputId": "1af50011-b773-4787-b472-f7413242696e"
      },
      "outputs": [
        {
          "data": {
            "application/vnd.google.colaboratory.intrinsic+json": {
              "type": "string"
            },
            "text/plain": [
              "'t'"
            ]
          },
          "execution_count": 66,
          "metadata": {},
          "output_type": "execute_result"
        }
      ],
      "source": [
        "dit_nest['k2'][3]"
      ]
    },
    {
      "cell_type": "code",
      "execution_count": null,
      "metadata": {
        "colab": {
          "base_uri": "https://localhost:8080/"
        },
        "id": "Ioyp0YTwk_M8",
        "outputId": "5c35921d-c0ba-43ce-fc17-cccec6a997da"
      },
      "outputs": [
        {
          "data": {
            "text/plain": [
              "{'inkey1': '100', 'inkey2': 'nest_dit'}"
            ]
          },
          "execution_count": 67,
          "metadata": {},
          "output_type": "execute_result"
        }
      ],
      "source": [
        "dit_nest['k3']"
      ]
    },
    {
      "cell_type": "code",
      "execution_count": null,
      "metadata": {
        "colab": {
          "base_uri": "https://localhost:8080/",
          "height": 35
        },
        "id": "9uM882UVlBiW",
        "outputId": "2b981b7f-d0ad-4048-eda6-caa5ad3934b8"
      },
      "outputs": [
        {
          "data": {
            "application/vnd.google.colaboratory.intrinsic+json": {
              "type": "string"
            },
            "text/plain": [
              "'100'"
            ]
          },
          "execution_count": 68,
          "metadata": {},
          "output_type": "execute_result"
        }
      ],
      "source": [
        "dit_nest['k3']['inkey1']"
      ]
    },
    {
      "cell_type": "code",
      "execution_count": null,
      "metadata": {
        "colab": {
          "base_uri": "https://localhost:8080/",
          "height": 35
        },
        "id": "DcPkSU8NmALb",
        "outputId": "ae6c11eb-c808-4c3b-d249-803934a492a8"
      },
      "outputs": [
        {
          "data": {
            "application/vnd.google.colaboratory.intrinsic+json": {
              "type": "string"
            },
            "text/plain": [
              "'nest_dit'"
            ]
          },
          "execution_count": 69,
          "metadata": {},
          "output_type": "execute_result"
        }
      ],
      "source": [
        "dit_nest['k3']['inkey2']"
      ]
    },
    {
      "cell_type": "markdown",
      "metadata": {
        "id": "0_Cm-YCuA70T"
      },
      "source": [
        "We can assign any element from dictionary or list in another place holder.\n",
        "See the following example to understand."
      ]
    },
    {
      "cell_type": "code",
      "execution_count": null,
      "metadata": {
        "id": "Pre9jw1ymFWb"
      },
      "outputs": [],
      "source": [
        "#We can assign any element from dictionary to placeholder.\n",
        "ph1=dit_nest['k3']"
      ]
    },
    {
      "cell_type": "code",
      "execution_count": null,
      "metadata": {
        "colab": {
          "base_uri": "https://localhost:8080/"
        },
        "id": "OtgrU7OLCK0l",
        "outputId": "ee4c704e-516d-4419-f5b4-a30477e8731c"
      },
      "outputs": [
        {
          "data": {
            "text/plain": [
              "{'inkey1': '100', 'inkey2': 'nest_dit'}"
            ]
          },
          "execution_count": 71,
          "metadata": {},
          "output_type": "execute_result"
        }
      ],
      "source": [
        "ph1"
      ]
    },
    {
      "cell_type": "code",
      "execution_count": null,
      "metadata": {
        "id": "aN3S1TVqCL9E"
      },
      "outputs": [],
      "source": [
        "#We can assign any element from list to placeholder.\n",
        "ph2=a[5]"
      ]
    },
    {
      "cell_type": "code",
      "execution_count": null,
      "metadata": {
        "colab": {
          "base_uri": "https://localhost:8080/"
        },
        "id": "aQzaewYnDB60",
        "outputId": "cb987fa2-b0dd-4e1e-da05-b129a2c84a53"
      },
      "outputs": [
        {
          "data": {
            "text/plain": [
              "5"
            ]
          },
          "execution_count": 73,
          "metadata": {},
          "output_type": "execute_result"
        }
      ],
      "source": [
        "ph2"
      ]
    },
    {
      "cell_type": "code",
      "execution_count": null,
      "metadata": {
        "colab": {
          "base_uri": "https://localhost:8080/",
          "height": 35
        },
        "id": "AI-LryviDDh8",
        "outputId": "effa8f8d-1417-4b73-cd0b-5443d522e50b"
      },
      "outputs": [
        {
          "data": {
            "application/vnd.google.colaboratory.intrinsic+json": {
              "type": "string"
            },
            "text/plain": [
              "'l'"
            ]
          },
          "execution_count": 74,
          "metadata": {},
          "output_type": "execute_result"
        }
      ],
      "source": [
        "#We can also modified the placeholder by using functions such as \".upper()\" etc.\n",
        "ph3=dit_nest['k2'][0]\n",
        "ph3"
      ]
    },
    {
      "cell_type": "code",
      "execution_count": null,
      "metadata": {
        "colab": {
          "base_uri": "https://localhost:8080/",
          "height": 35
        },
        "id": "zP6jhonTDuBT",
        "outputId": "4507f5da-3ed7-4153-9468-2ff57e7dcf82"
      },
      "outputs": [
        {
          "data": {
            "application/vnd.google.colaboratory.intrinsic+json": {
              "type": "string"
            },
            "text/plain": [
              "'L'"
            ]
          },
          "execution_count": 75,
          "metadata": {},
          "output_type": "execute_result"
        }
      ],
      "source": [
        "ph3.upper()"
      ]
    },
    {
      "cell_type": "code",
      "execution_count": null,
      "metadata": {
        "colab": {
          "base_uri": "https://localhost:8080/",
          "height": 35
        },
        "id": "DUZTWRN-Dxoa",
        "outputId": "ceac03a7-1452-4c50-bc3c-d970c6f6471a"
      },
      "outputs": [
        {
          "data": {
            "application/vnd.google.colaboratory.intrinsic+json": {
              "type": "string"
            },
            "text/plain": [
              "'l'"
            ]
          },
          "execution_count": 76,
          "metadata": {},
          "output_type": "execute_result"
        }
      ],
      "source": [
        "ph3"
      ]
    },
    {
      "cell_type": "markdown",
      "metadata": {
        "id": "eDpez9UsEO_x"
      },
      "source": [
        "We can insert a new key in an existing dictionary by doing as follows"
      ]
    },
    {
      "cell_type": "code",
      "execution_count": null,
      "metadata": {
        "colab": {
          "base_uri": "https://localhost:8080/"
        },
        "id": "dqk6UAuhD8qS",
        "outputId": "fa57d0d0-f109-40da-c042-eca06025b779"
      },
      "outputs": [
        {
          "data": {
            "text/plain": [
              "{'k1': 'v1', 'k2': 'v2'}"
            ]
          },
          "execution_count": 77,
          "metadata": {},
          "output_type": "execute_result"
        }
      ],
      "source": [
        "dit_inr={'k1':'v1','k2':'v2'}\n",
        "dit_inr"
      ]
    },
    {
      "cell_type": "code",
      "execution_count": null,
      "metadata": {
        "id": "8hGMNH_wEt0C"
      },
      "outputs": [],
      "source": [
        "dit_inr['k3'] = 'v3'"
      ]
    },
    {
      "cell_type": "code",
      "execution_count": null,
      "metadata": {
        "colab": {
          "base_uri": "https://localhost:8080/"
        },
        "id": "yenKd68UE8KB",
        "outputId": "1c868b5f-646a-4e69-f72f-6a6409d5019e"
      },
      "outputs": [
        {
          "data": {
            "text/plain": [
              "{'k1': 'v1', 'k2': 'v2', 'k3': 'v3'}"
            ]
          },
          "execution_count": 79,
          "metadata": {},
          "output_type": "execute_result"
        }
      ],
      "source": [
        "dit_inr"
      ]
    },
    {
      "cell_type": "markdown",
      "metadata": {
        "id": "Qxe4F0pLKqaE"
      },
      "source": [
        "By using the same method to insert new elements in dictionary, we can also replace an exisiting element from any given dictionary."
      ]
    },
    {
      "cell_type": "code",
      "execution_count": null,
      "metadata": {
        "colab": {
          "base_uri": "https://localhost:8080/"
        },
        "id": "u3k56_TZE-Ex",
        "outputId": "50718b24-e6c6-48ab-e589-40bea3c8a71e"
      },
      "outputs": [
        {
          "data": {
            "text/plain": [
              "{'k1': 'v1', 'k2': 'v2', 'k3': 'v3'}"
            ]
          },
          "execution_count": 80,
          "metadata": {},
          "output_type": "execute_result"
        }
      ],
      "source": [
        "dit_inr"
      ]
    },
    {
      "cell_type": "code",
      "execution_count": null,
      "metadata": {
        "colab": {
          "base_uri": "https://localhost:8080/"
        },
        "id": "p48fCx8DLEv3",
        "outputId": "06fb98b8-a02b-47ff-f627-7381fab7f713"
      },
      "outputs": [
        {
          "data": {
            "text/plain": [
              "{'k1': 'v1New', 'k2': 'v2', 'k3': 'v3'}"
            ]
          },
          "execution_count": 81,
          "metadata": {},
          "output_type": "execute_result"
        }
      ],
      "source": [
        "#We are going to change k1's value.\n",
        "dit_inr['k1'] = 'v1New'\n",
        "dit_inr"
      ]
    },
    {
      "cell_type": "markdown",
      "metadata": {
        "id": "cZxrluDDLeLZ"
      },
      "source": [
        "In order to just know the keys or values or items inside of existing dictionary we should use **.keys()** or **.values()** or **.items()** Respectively."
      ]
    },
    {
      "cell_type": "code",
      "execution_count": null,
      "metadata": {
        "colab": {
          "base_uri": "https://localhost:8080/"
        },
        "id": "XLnHBwMJLStf",
        "outputId": "4d08924e-d3f9-4fe0-fa2b-de42dbda0ac9"
      },
      "outputs": [
        {
          "data": {
            "text/plain": [
              "dict_keys(['k1', 'k2', 'k3'])"
            ]
          },
          "execution_count": 82,
          "metadata": {},
          "output_type": "execute_result"
        }
      ],
      "source": [
        "#Following method should explain how to do it.\n",
        "#We are looking for key's name.\n",
        "dit_inr.keys()"
      ]
    },
    {
      "cell_type": "code",
      "execution_count": null,
      "metadata": {
        "colab": {
          "base_uri": "https://localhost:8080/"
        },
        "id": "Ceyygbt0MQfH",
        "outputId": "972bc04d-df07-4574-9eee-1d78634655af"
      },
      "outputs": [
        {
          "data": {
            "text/plain": [
              "dict_values(['v1New', 'v2', 'v3'])"
            ]
          },
          "execution_count": 83,
          "metadata": {},
          "output_type": "execute_result"
        }
      ],
      "source": [
        "#We are looking for value's name.\n",
        "dit_inr.values()"
      ]
    },
    {
      "cell_type": "code",
      "execution_count": null,
      "metadata": {
        "colab": {
          "base_uri": "https://localhost:8080/"
        },
        "id": "4n5iKOIVMjHe",
        "outputId": "fde6f603-7a9e-47f7-97ef-7c146a42d75a"
      },
      "outputs": [
        {
          "data": {
            "text/plain": [
              "dict_items([('k1', 'v1New'), ('k2', 'v2'), ('k3', 'v3')])"
            ]
          },
          "execution_count": 84,
          "metadata": {},
          "output_type": "execute_result"
        }
      ],
      "source": [
        "#We are looking for item's name.\n",
        "dit_inr.items()"
      ]
    },
    {
      "cell_type": "markdown",
      "metadata": {
        "id": "K1rllLO7Nq_-"
      },
      "source": [
        "Do dictionaries keep an order? How do I print the values of the dictionary in order?\n",
        "\n",
        "Dictionaries are mappings and do not retain order! If you do want the capabilities of a dictionary but you would like ordering as well, check out the **ordereddict** object lecture later on in the course!"
      ]
    },
    {
      "cell_type": "markdown",
      "metadata": {
        "id": "gU9MV41WOI_N"
      },
      "source": [
        "**TUPLES**"
      ]
    },
    {
      "cell_type": "markdown",
      "metadata": {
        "id": "seNtbbdOOPr6"
      },
      "source": [
        "Tuples are similar to list but they are immutable. This means that once an element inside the tuple is assigned then they cannot be re-assigned.\n",
        "\n",
        "They use parenthesis i.e => (0,1,2)"
      ]
    },
    {
      "cell_type": "code",
      "execution_count": null,
      "metadata": {
        "colab": {
          "base_uri": "https://localhost:8080/"
        },
        "id": "DjhDQWU_M6Mm",
        "outputId": "bd419c18-f36f-445c-f15d-7afd0988e208"
      },
      "outputs": [
        {
          "data": {
            "text/plain": [
              "(1, 2, 3)"
            ]
          },
          "execution_count": 85,
          "metadata": {},
          "output_type": "execute_result"
        }
      ],
      "source": [
        "t=(1,2,3)\n",
        "t"
      ]
    },
    {
      "cell_type": "code",
      "execution_count": null,
      "metadata": {
        "colab": {
          "base_uri": "https://localhost:8080/"
        },
        "id": "APBVX2IfXZ-_",
        "outputId": "74de14fa-8297-4699-8d17-58dc0c5195e6"
      },
      "outputs": [
        {
          "data": {
            "text/plain": [
              "tuple"
            ]
          },
          "execution_count": 86,
          "metadata": {},
          "output_type": "execute_result"
        }
      ],
      "source": [
        "type(t)"
      ]
    },
    {
      "cell_type": "code",
      "execution_count": null,
      "metadata": {
        "colab": {
          "base_uri": "https://localhost:8080/"
        },
        "id": "0FaMdTv4Xb5v",
        "outputId": "23d22281-855f-48c5-9713-96effddb45fb"
      },
      "outputs": [
        {
          "data": {
            "text/plain": [
              "1"
            ]
          },
          "execution_count": 87,
          "metadata": {},
          "output_type": "execute_result"
        }
      ],
      "source": [
        "t[0]"
      ]
    },
    {
      "cell_type": "code",
      "execution_count": null,
      "metadata": {
        "colab": {
          "base_uri": "https://localhost:8080/"
        },
        "id": "5aZEUBYqYUdg",
        "outputId": "129e08ed-69f5-4bea-abeb-3f605f9bcbe7"
      },
      "outputs": [
        {
          "data": {
            "text/plain": [
              "2"
            ]
          },
          "execution_count": 88,
          "metadata": {},
          "output_type": "execute_result"
        }
      ],
      "source": [
        "t[1]"
      ]
    },
    {
      "cell_type": "code",
      "execution_count": null,
      "metadata": {
        "colab": {
          "base_uri": "https://localhost:8080/"
        },
        "id": "sETWSbPGZ_HG",
        "outputId": "e51835a8-1c04-4e86-a135-a9ea5115dbd3"
      },
      "outputs": [
        {
          "data": {
            "text/plain": [
              "3"
            ]
          },
          "execution_count": 89,
          "metadata": {},
          "output_type": "execute_result"
        }
      ],
      "source": [
        "t[2]"
      ]
    },
    {
      "cell_type": "code",
      "execution_count": null,
      "metadata": {
        "colab": {
          "base_uri": "https://localhost:8080/",
          "height": 200
        },
        "id": "jI6-iCMjaBOX",
        "outputId": "75dee50a-da4d-4dca-a121-f7fe06353f04"
      },
      "outputs": [
        {
          "ename": "TypeError",
          "evalue": "ignored",
          "output_type": "error",
          "traceback": [
            "\u001b[0;31m---------------------------------------------------------------------------\u001b[0m",
            "\u001b[0;31mTypeError\u001b[0m                                 Traceback (most recent call last)",
            "\u001b[0;32m<ipython-input-90-256a5de55030>\u001b[0m in \u001b[0;36m<module>\u001b[0;34m\u001b[0m\n\u001b[1;32m      1\u001b[0m \u001b[0;31m#We know that tuples are immutable and hence it cannot be replaced like it can in list.\u001b[0m\u001b[0;34m\u001b[0m\u001b[0;34m\u001b[0m\u001b[0;34m\u001b[0m\u001b[0m\n\u001b[1;32m      2\u001b[0m \u001b[0;31m#lets us try to replace it.\u001b[0m\u001b[0;34m\u001b[0m\u001b[0;34m\u001b[0m\u001b[0;34m\u001b[0m\u001b[0m\n\u001b[0;32m----> 3\u001b[0;31m \u001b[0mt\u001b[0m\u001b[0;34m[\u001b[0m\u001b[0;36m0\u001b[0m\u001b[0;34m]\u001b[0m \u001b[0;34m=\u001b[0m \u001b[0;36m10\u001b[0m\u001b[0;34m\u001b[0m\u001b[0;34m\u001b[0m\u001b[0m\n\u001b[0m",
            "\u001b[0;31mTypeError\u001b[0m: 'tuple' object does not support item assignment"
          ]
        }
      ],
      "source": [
        "#We know that tuples are immutable and hence it cannot be replaced like it can in list.\n",
        "#lets us try to replace it.\n",
        "t[0] = 10"
      ]
    },
    {
      "cell_type": "code",
      "execution_count": null,
      "metadata": {
        "id": "7yT9wfzQcnRD"
      },
      "outputs": [],
      "source": [
        "#As we can see above, tuple does not support item assignment.\n",
        "#This feature of tuple is made to enable better integrity in a code."
      ]
    },
    {
      "cell_type": "markdown",
      "metadata": {
        "id": "48yK_2VIeKEw"
      },
      "source": [
        "**SETS**\n",
        "\n",
        "it is an unordered collections of unique elements. it means that there can only be one representative of the same object."
      ]
    },
    {
      "cell_type": "code",
      "execution_count": null,
      "metadata": {
        "id": "VgKMtJwxelco"
      },
      "outputs": [],
      "source": [
        "my_set1=set()\n",
        "my_set1"
      ]
    },
    {
      "cell_type": "markdown",
      "metadata": {
        "id": "ET4ux25rky3r"
      },
      "source": [
        "We can add elements inside set by using **.add()** function."
      ]
    },
    {
      "cell_type": "code",
      "execution_count": null,
      "metadata": {
        "id": "YH1gS191fSd4"
      },
      "outputs": [],
      "source": [
        "my_set1.add(1)"
      ]
    },
    {
      "cell_type": "code",
      "execution_count": null,
      "metadata": {
        "id": "V8FTw7jSkuC1"
      },
      "outputs": [],
      "source": [
        "my_set1"
      ]
    },
    {
      "cell_type": "code",
      "execution_count": null,
      "metadata": {
        "id": "UCAkIjeUkwmX"
      },
      "outputs": [],
      "source": [
        "my_set1.add(2)"
      ]
    },
    {
      "cell_type": "code",
      "execution_count": null,
      "metadata": {
        "id": "afIbOg06k_2k"
      },
      "outputs": [],
      "source": [
        "my_set1"
      ]
    },
    {
      "cell_type": "code",
      "execution_count": null,
      "metadata": {
        "id": "pVe1LVnhlCWE"
      },
      "outputs": [],
      "source": [
        "my_set1.add(3)"
      ]
    },
    {
      "cell_type": "code",
      "execution_count": null,
      "metadata": {
        "id": "I5-r65lMlHf9"
      },
      "outputs": [],
      "source": [
        "my_set1"
      ]
    },
    {
      "cell_type": "code",
      "execution_count": null,
      "metadata": {
        "id": "TvGJfKKZlJNV"
      },
      "outputs": [],
      "source": [
        "my_set1.add(5)"
      ]
    },
    {
      "cell_type": "code",
      "execution_count": null,
      "metadata": {
        "id": "DD3ndTRnlQA1"
      },
      "outputs": [],
      "source": [
        "my_set1"
      ]
    },
    {
      "cell_type": "code",
      "execution_count": null,
      "metadata": {
        "id": "wsWL7FLrlRrN"
      },
      "outputs": [],
      "source": [
        "my_set1.add(9)"
      ]
    },
    {
      "cell_type": "code",
      "execution_count": null,
      "metadata": {
        "id": "RIfoh0nZlVZO"
      },
      "outputs": [],
      "source": [
        "my_set1"
      ]
    },
    {
      "cell_type": "code",
      "execution_count": null,
      "metadata": {
        "id": "99ffCjW2lWxE"
      },
      "outputs": [],
      "source": [
        "my_set1.add(4)"
      ]
    },
    {
      "cell_type": "code",
      "execution_count": null,
      "metadata": {
        "id": "MpqDqZ87liWV"
      },
      "outputs": [],
      "source": [
        "my_set1"
      ]
    },
    {
      "cell_type": "markdown",
      "metadata": {
        "id": "RhUIeGjplpq8"
      },
      "source": [
        "Now we will add same element multiple time. We know same element repeated multiple time will be reduced to only one if it doesn't exist and it will be ignored if that element exisited before."
      ]
    },
    {
      "cell_type": "code",
      "execution_count": null,
      "metadata": {
        "id": "QgPPnsAWlkZU"
      },
      "outputs": [],
      "source": [
        "my_set1.add(9)"
      ]
    },
    {
      "cell_type": "code",
      "execution_count": null,
      "metadata": {
        "id": "_Oxm893WmJzd"
      },
      "outputs": [],
      "source": [
        "#Element 9 was already there in the set. So adding it multiple time won't add.\n",
        "my_set1"
      ]
    },
    {
      "cell_type": "markdown",
      "metadata": {
        "id": "vcq99JW9mlxg"
      },
      "source": [
        "We can write set by creating a variable list and then putting that variable inside **set()** function."
      ]
    },
    {
      "cell_type": "code",
      "execution_count": null,
      "metadata": {
        "id": "KtKNQBepmjbe"
      },
      "outputs": [],
      "source": [
        "my_set2=[0,1,2,3,4,5,6,7,8,9]\n",
        "set(my_set2)"
      ]
    },
    {
      "cell_type": "markdown",
      "metadata": {
        "id": "4Nto9LLfnQYd"
      },
      "source": [
        "We can use this way of writing to easily see how **set()** function ignores multiple entries of a single element."
      ]
    },
    {
      "cell_type": "code",
      "execution_count": null,
      "metadata": {
        "id": "UZ8To3SFnEI0"
      },
      "outputs": [],
      "source": [
        "#Notice how set funtion will ignore multiple entries of repeated elements.\n",
        "my_set3=[0,0,1,1,2,3,4,4,5,6,7,7,8,9,9,0]\n",
        "set(my_set3)"
      ]
    },
    {
      "cell_type": "markdown",
      "metadata": {
        "id": "pQTjMGqbog_b"
      },
      "source": [
        "We can do every disscused function without using any variable assignment.\n",
        "\n",
        "Below is an example of fore said topic."
      ]
    },
    {
      "cell_type": "code",
      "execution_count": null,
      "metadata": {
        "id": "ggkMJkh5n_S8"
      },
      "outputs": [],
      "source": [
        "set('Missisippi')"
      ]
    },
    {
      "cell_type": "markdown",
      "metadata": {
        "id": "DkqyvNuFo_G_"
      },
      "source": [
        "**BOOLEANS**\n",
        "\n",
        "This allows to convey statement to be either **True** or **False**."
      ]
    },
    {
      "cell_type": "code",
      "execution_count": null,
      "metadata": {
        "id": "G6JpSxQUoeZ9"
      },
      "outputs": [],
      "source": [
        "# Boolean terms are required to have it's first letter to be in upper case.\n",
        "# True or False is correct (note the upper case of first letter)\n",
        "# true or false is incorrect, because their first letter is in lower case."
      ]
    },
    {
      "cell_type": "code",
      "execution_count": null,
      "metadata": {
        "id": "j6CM_HHdDcYa"
      },
      "outputs": [],
      "source": [
        "True\n"
      ]
    },
    {
      "cell_type": "code",
      "execution_count": null,
      "metadata": {
        "id": "plycpV0nDekx"
      },
      "outputs": [],
      "source": [
        "False"
      ]
    },
    {
      "cell_type": "code",
      "execution_count": null,
      "metadata": {
        "id": "Lo6A5Vd_Dl9p"
      },
      "outputs": [],
      "source": [
        "true"
      ]
    },
    {
      "cell_type": "code",
      "execution_count": null,
      "metadata": {
        "id": "4SxL_gulDoQJ"
      },
      "outputs": [],
      "source": [
        "false"
      ]
    },
    {
      "cell_type": "markdown",
      "metadata": {
        "id": "WIfNNjQi0LEI"
      },
      "source": [
        "For the following quiz questions, we will get a preview of comparison operators. In the table below, a=3 and b=4.\n",
        "\n",
        "<table class=\"table table-bordered\">\n",
        "<tr>\n",
        "<th style=\"width:10%\">Operator</th><th style=\"width:45%\">Description</th><th>Example</th>\n",
        "</tr>\n",
        "<tr>\n",
        "<td>==</td>\n",
        "<td>If the values of two operands are equal, then the condition becomes true.</td>\n",
        "<td> (a == b) is not true.</td>\n",
        "</tr>\n",
        "<tr>\n",
        "<td>!=</td>\n",
        "<td>If values of two operands are not equal, then condition becomes true.</td>\n",
        "<td> (a != b) is true.</td>\n",
        "</tr>\n",
        "<tr>\n",
        "<td>&gt;</td>\n",
        "<td>If the value of left operand is greater than the value of right operand, then condition becomes true.</td>\n",
        "<td> (a &gt; b) is not true.</td>\n",
        "</tr>\n",
        "<tr>\n",
        "<td>&lt;</td>\n",
        "<td>If the value of left operand is less than the value of right operand, then condition becomes true.</td>\n",
        "<td> (a &lt; b) is true.</td>\n",
        "</tr>\n",
        "<tr>\n",
        "<td>&gt;=</td>\n",
        "<td>If the value of left operand is greater than or equal to the value of right operand, then condition becomes true.</td>\n",
        "<td> (a &gt;= b) is not true. </td>\n",
        "</tr>\n",
        "<tr>\n",
        "<td>&lt;=</td>\n",
        "<td>If the value of left operand is less than or equal to the value of right operand, then condition becomes true.</td>\n",
        "<td> (a &lt;= b) is true. </td>\n",
        "</tr>\n",
        "</table>"
      ]
    },
    {
      "cell_type": "markdown",
      "metadata": {
        "id": "mxCnyxkFDwBB"
      },
      "source": [
        "**I/O with Basic File in Python**\n",
        "\n",
        "\n",
        "using this => **%%**, we can write files."
      ]
    },
    {
      "cell_type": "code",
      "execution_count": null,
      "metadata": {
        "id": "UPZeCKR-DrBQ"
      },
      "outputs": [],
      "source": [
        "%%writefile mytext.txt\n",
        "Hello everyone!\n",
        "I'm writing txt file inside python!\n",
        "Quick brown fox jumps over the lazy dog!\n",
        "I like sandwich very much!\n",
        "Goodbye!"
      ]
    },
    {
      "cell_type": "code",
      "execution_count": null,
      "metadata": {
        "id": "gG_Ed-vnh7y-"
      },
      "outputs": [],
      "source": [
        "%%writefile mytext2.txt\n",
        "Hello everyone!\n",
        "I'am writing text file inside python!"
      ]
    },
    {
      "cell_type": "markdown",
      "metadata": {
        "id": "i23UpfkbP8zO"
      },
      "source": [
        "After writing a file, we can use it by assigning it to a variable by using **open()** function. see the below code to understand better.\n",
        "\n",
        "**Note :** after using **.open()** function for opening a file. We must use **.close()** function on the same file to close it. This is necessary if you want to delete it later, or else python will complain that the file is cannot be deleted because it is already in use."
      ]
    },
    {
      "cell_type": "code",
      "execution_count": null,
      "metadata": {
        "id": "cimoaSTAE5wR"
      },
      "outputs": [],
      "source": [
        "myfile = open('mytext.txt')"
      ]
    },
    {
      "cell_type": "code",
      "execution_count": null,
      "metadata": {
        "id": "gdM-XckAiJFQ"
      },
      "outputs": [],
      "source": [
        "myfile2 = open('mytext2.txt')"
      ]
    },
    {
      "cell_type": "markdown",
      "metadata": {
        "id": "H9aJavTyQpmU"
      },
      "source": [
        "After assigning a variable with a file we created. We can check the file info and it's type by calling that variable."
      ]
    },
    {
      "cell_type": "code",
      "execution_count": null,
      "metadata": {
        "id": "Sg2eRclpFOFO"
      },
      "outputs": [],
      "source": [
        "myfile"
      ]
    },
    {
      "cell_type": "markdown",
      "metadata": {
        "id": "TPMQnCSARP5M"
      },
      "source": [
        "**pwd** is a function that shows your current directory. It means that it shows full file path."
      ]
    },
    {
      "cell_type": "code",
      "execution_count": null,
      "metadata": {
        "id": "KHJOWNpeFbHO"
      },
      "outputs": [],
      "source": [
        "pwd"
      ]
    },
    {
      "cell_type": "markdown",
      "metadata": {
        "id": "g7vj7dxgRmH9"
      },
      "source": [
        "In order to read the file we created, we will use **.read()** function."
      ]
    },
    {
      "cell_type": "code",
      "execution_count": null,
      "metadata": {
        "id": "OoRezMF1Opnc"
      },
      "outputs": [],
      "source": [
        "myfile.read()"
      ]
    },
    {
      "cell_type": "markdown",
      "metadata": {
        "id": "X9E5Pp61SWD9"
      },
      "source": [
        "There is a cursor system used while reading a file. After reading a file, the cursor moves to the end. When we repeat **.read()** function to read the same file again, we get this."
      ]
    },
    {
      "cell_type": "code",
      "execution_count": null,
      "metadata": {
        "id": "PyK6p-ayO7Zf"
      },
      "outputs": [],
      "source": [
        "myfile.read()"
      ]
    },
    {
      "cell_type": "markdown",
      "metadata": {
        "id": "IKxhZ_VITbYf"
      },
      "source": [
        "In order to read the file again but properly. We must reset the cursor system back to zero. To do that we use **.seek(0)** with the file name."
      ]
    },
    {
      "cell_type": "code",
      "execution_count": null,
      "metadata": {
        "id": "waQLxrYRPUqn"
      },
      "outputs": [],
      "source": [
        "myfile.seek(0)"
      ]
    },
    {
      "cell_type": "markdown",
      "metadata": {
        "id": "uNCzMJHnUkNc"
      },
      "source": [
        "After that we can read the file properly this time."
      ]
    },
    {
      "cell_type": "code",
      "execution_count": null,
      "metadata": {
        "id": "5CjGI4THPYkH"
      },
      "outputs": [],
      "source": [
        "myfile.read()"
      ]
    },
    {
      "cell_type": "markdown",
      "metadata": {
        "id": "7y7lBj8BUplE"
      },
      "source": [
        "In this method we must reset the cursor every time to read same file multiple time."
      ]
    },
    {
      "cell_type": "code",
      "execution_count": null,
      "metadata": {
        "id": "NjVGSRY6PbD3"
      },
      "outputs": [],
      "source": [
        "myfile.seek(0)"
      ]
    },
    {
      "cell_type": "markdown",
      "metadata": {
        "id": "CcqDWU3vgK4t"
      },
      "source": [
        "Using **.read()** returns everything in a file in a single-line string format.\n",
        "In order to present everything written in file in a line by line format, we should use **.readlines()** function.\n",
        "\n",
        "see the code below to understand."
      ]
    },
    {
      "cell_type": "code",
      "execution_count": null,
      "metadata": {
        "id": "Ez8GYbd4g3Q1"
      },
      "outputs": [],
      "source": [
        "#This present file data in line by line format.\n",
        "myfile.readlines()"
      ]
    },
    {
      "cell_type": "code",
      "execution_count": null,
      "metadata": {
        "id": "_I2v8uQCiSP4"
      },
      "outputs": [],
      "source": [
        "#if a file contains few written words then it will present it in single line but with elegance.\n",
        "myfile2.readlines()"
      ]
    },
    {
      "cell_type": "markdown",
      "metadata": {
        "id": "fufAO-hGixNi"
      },
      "source": [
        "Beaware! you must write **.readlines()** not **.readline()** In order read everything inside of a file. Using **.readline()** will only return single line!\n",
        "\n",
        "see the code below to understand."
      ]
    },
    {
      "cell_type": "code",
      "execution_count": null,
      "metadata": {
        "id": "bVWSNEhNPePu"
      },
      "outputs": [],
      "source": [
        "myfile.readline()"
      ]
    },
    {
      "cell_type": "markdown",
      "metadata": {
        "id": "07TlljtLkZfF"
      },
      "source": [
        "Now we will close the file."
      ]
    },
    {
      "cell_type": "code",
      "execution_count": null,
      "metadata": {
        "id": "wteexZtIgxim"
      },
      "outputs": [],
      "source": [
        "myfile.close()"
      ]
    },
    {
      "cell_type": "code",
      "execution_count": null,
      "metadata": {
        "id": "HNsqNpzCsK06"
      },
      "outputs": [],
      "source": [
        "myfile2.close()"
      ]
    },
    {
      "cell_type": "markdown",
      "metadata": {
        "id": "NqGqOLsOvwSb"
      },
      "source": [
        "For opening and reading files without having to use **.close()** function every time. We write in the following pattern.\n",
        "\n",
        "**NOTE :** We are going to use an existing file. Using this method of writing also help us get rid of cursor system and the necessity of reseting it everytime after use."
      ]
    },
    {
      "cell_type": "code",
      "execution_count": null,
      "metadata": {
        "id": "cCxkppzbsNha"
      },
      "outputs": [],
      "source": [
        "with open('mytext.txt') as myfile1:\n",
        "  contents = myfile1.readlines()"
      ]
    },
    {
      "cell_type": "code",
      "execution_count": null,
      "metadata": {
        "id": "d3Rg54uxzMJu"
      },
      "outputs": [],
      "source": [
        "contents"
      ]
    },
    {
      "cell_type": "code",
      "execution_count": null,
      "metadata": {
        "id": "virA62c3zW0o"
      },
      "outputs": [],
      "source": [
        "contents"
      ]
    },
    {
      "cell_type": "markdown",
      "metadata": {
        "id": "vh8Q20eJ0ipM"
      },
      "source": [
        "There are various modes in **open()** functions. One example is shown below to help in understanding."
      ]
    },
    {
      "cell_type": "code",
      "execution_count": null,
      "metadata": {
        "id": "NstdjfxtzZgQ"
      },
      "outputs": [],
      "source": [
        "#Notice we added mode='r' in the open() function. This opens the file in \"Read\" mode. There are several modes that we will see later below.\n",
        "with open('mytext.txt', mode='r') as myfile1:\n",
        "  contents = myfile1.readlines()"
      ]
    },
    {
      "cell_type": "code",
      "execution_count": null,
      "metadata": {
        "id": "aF8cSiU01ip9"
      },
      "outputs": [],
      "source": [
        "contents"
      ]
    },
    {
      "cell_type": "code",
      "execution_count": null,
      "metadata": {
        "id": "RiB19gjPFGpT"
      },
      "outputs": [],
      "source": [
        "%%writefile file1.txt\n",
        "Hello Everynyan!"
      ]
    },
    {
      "cell_type": "markdown",
      "metadata": {
        "id": "VEMEbAbE2RGF"
      },
      "source": [
        "**READING, WRITING AND APPENDING MODES**\n",
        "* **mode='r'** is read only.\n",
        "* **mode='w'** is write only. (overwrites file or creates new.)\n",
        "* **mode='a'** is append only. (will addon to file.)\n",
        "* **mode='r+'** is reading and writing.\n",
        "* **mode='w+'** is writing and reading. (overwrites files or creates a new.)\n",
        "\n"
      ]
    },
    {
      "cell_type": "code",
      "execution_count": null,
      "metadata": {
        "id": "8VKf7TVo2Ozk"
      },
      "outputs": [],
      "source": [
        "with open('file1.txt', mode='r') as f1:\n",
        "  print(f1.read())"
      ]
    },
    {
      "cell_type": "markdown",
      "metadata": {
        "id": "OmsVaRH6HydQ"
      },
      "source": [
        "**Append mode**\n",
        "\n",
        "Append mode will write in addition to existing information."
      ]
    },
    {
      "cell_type": "code",
      "execution_count": null,
      "metadata": {
        "id": "3uxoMch5IvF4"
      },
      "outputs": [],
      "source": [
        "with open('file1.txt', mode='r') as f1:\n",
        "  print(f1.read())"
      ]
    },
    {
      "cell_type": "code",
      "execution_count": null,
      "metadata": {
        "id": "0bZ1r1sbGNAl"
      },
      "outputs": [],
      "source": [
        "with open('file1.txt', mode='a') as f1:\n",
        "  f1.write('I love cats!')"
      ]
    },
    {
      "cell_type": "code",
      "execution_count": null,
      "metadata": {
        "id": "03dHXHENGfsc"
      },
      "outputs": [],
      "source": [
        "with open('file1.txt', mode='r') as f1:\n",
        "  print(f1.read())"
      ]
    },
    {
      "cell_type": "markdown",
      "metadata": {
        "id": "r6_ie7EqH8Sh"
      },
      "source": [
        "**Write Mode**\n",
        "\n",
        "Write mode will overwrite existing file or it will create a new file if the file name doesn't exist."
      ]
    },
    {
      "cell_type": "markdown",
      "metadata": {
        "id": "GuJp5CH5KbTG"
      },
      "source": [
        "Overwriting an existing file"
      ]
    },
    {
      "cell_type": "code",
      "execution_count": null,
      "metadata": {
        "id": "jup3KGoZHPzU"
      },
      "outputs": [],
      "source": [
        "#Lets overwrite file1.txt\n",
        "with open('file1.txt', mode='w') as f1:\n",
        "  f1.write('Konichiwa Nyan! <3')"
      ]
    },
    {
      "cell_type": "code",
      "execution_count": null,
      "metadata": {
        "id": "vUWsnMhYJWPl"
      },
      "outputs": [],
      "source": [
        "with open('file1.txt', mode='r') as f1:\n",
        "  print(f1.read())"
      ]
    },
    {
      "cell_type": "markdown",
      "metadata": {
        "id": "lZs6wH-SKgL9"
      },
      "source": [
        "Writing a new file"
      ]
    },
    {
      "cell_type": "code",
      "execution_count": null,
      "metadata": {
        "id": "MN3NuuHGJZ15"
      },
      "outputs": [],
      "source": [
        "#Lets write a new file!\n",
        "with open('file2.txt', mode='w') as f2:\n",
        "  f2.write('Hello EveryCats!!')"
      ]
    },
    {
      "cell_type": "code",
      "execution_count": null,
      "metadata": {
        "id": "BIUQ2ZlaJyCP"
      },
      "outputs": [],
      "source": [
        "#We have created a new file using this method. Lets read it.\n",
        "with open('file2.txt', mode='r') as f2:\n",
        "  print(f2.read())"
      ]
    },
    {
      "cell_type": "code",
      "execution_count": null,
      "metadata": {
        "id": "-xtkCmiQKt1v"
      },
      "outputs": [],
      "source": [
        "x = open('test.txt', 'w')\n",
        "x.write('Hello World')\n",
        "#If .close() is not used then it will return lenght of strings in file\n",
        "x.close()"
      ]
    },
    {
      "cell_type": "markdown",
      "metadata": {
        "id": "Xf-IhrYIM6in"
      },
      "source": [
        "**Resources for More Basic Practice**\n",
        "\n",
        "Before you begin your assessment, I wanted to point out some helpful links for practice (don't worry about being able to do these exercises, I just want you to be aware of the links so you can visit them later, since we still haven't discussed functions, you won't be able to utilize a lot of these resources yet!):\n",
        "\n",
        "* Basic Practice:\n",
        "\n",
        "  http://codingbat.com/python\n",
        "\n",
        "* More Mathematical (and Harder) Practice:\n",
        "\n",
        "  https://projecteuler.net/archives\n",
        "\n",
        "* List of Practice Problems:\n",
        "\n",
        "  http://www.codeabbey.com/index/task_list\n",
        "\n",
        "* A SubReddit Devoted to Daily Practice Problems:\n",
        "\n",
        "  https://www.reddit.com/r/dailyprogrammer\n",
        "\n",
        "* A very tricky website with very few hints and touch problems (Not for beginners but still interesting)\n",
        "\n",
        "  http://www.pythonchallenge.com/"
      ]
    },
    {
      "cell_type": "markdown",
      "metadata": {
        "id": "6G9qDZpo1sfC"
      },
      "source": [
        "<h1><b>SECTION 2"
      ]
    },
    {
      "cell_type": "markdown",
      "metadata": {
        "id": "sFUZfBgtSJkb"
      },
      "source": [
        "Comparision Operator"
      ]
    },
    {
      "cell_type": "code",
      "execution_count": null,
      "metadata": {
        "id": "n1O6mR6hMXlk"
      },
      "outputs": [],
      "source": [
        "#Equality"
      ]
    },
    {
      "cell_type": "markdown",
      "metadata": {
        "id": "VPNprMbvTLeC"
      },
      "source": [
        "<h3><b>Equality</b></h3><br>To check if two values are equal in comparision, we use: <h6>\"  <b>==</b>  \"  sign.</h6>"
      ]
    },
    {
      "cell_type": "code",
      "execution_count": null,
      "metadata": {
        "id": "391Tl_vjSRJp"
      },
      "outputs": [],
      "source": [
        "#comparing equality of same value integer returns \"True\".\n",
        "2 == 2"
      ]
    },
    {
      "cell_type": "code",
      "execution_count": null,
      "metadata": {
        "id": "J64Z1Nr9ST_Z"
      },
      "outputs": [],
      "source": [
        "#comparing equality of different value interger returns \"False\".\n",
        "2 == 3"
      ]
    },
    {
      "cell_type": "code",
      "execution_count": null,
      "metadata": {
        "id": "Vd2RqYq-SWLo"
      },
      "outputs": [],
      "source": [
        "#We can also compare strings and many other data types\n",
        "#comparing equality of same string returns \"True\".\n",
        "'hello' == 'hello'"
      ]
    },
    {
      "cell_type": "code",
      "execution_count": null,
      "metadata": {
        "id": "hffxe-76Scj_"
      },
      "outputs": [],
      "source": [
        "#comparing equality of different strings returns \"False\".\n",
        "'hello' == 'bye'"
      ]
    },
    {
      "cell_type": "code",
      "execution_count": null,
      "metadata": {
        "id": "19Y06FgaShJw"
      },
      "outputs": [],
      "source": [
        "#comparing operators in strings are case-sensetive.\n",
        "'Bye' == 'bye'"
      ]
    },
    {
      "cell_type": "code",
      "execution_count": null,
      "metadata": {
        "id": "-mxRHUH5WgeG"
      },
      "outputs": [],
      "source": [
        "#if floats value is strictly equal to integers value then it will return 'True' in equality comparision.\n",
        "2.00 == 2"
      ]
    },
    {
      "cell_type": "code",
      "execution_count": null,
      "metadata": {
        "id": "oS8xiQh_XXsc"
      },
      "outputs": [],
      "source": [
        "2.001 == 2"
      ]
    },
    {
      "cell_type": "code",
      "execution_count": null,
      "metadata": {
        "id": "98wtvDtfSpLQ"
      },
      "outputs": [],
      "source": [
        "#string version of 2 and integer version of two are not equal.\n",
        "'2' == 2"
      ]
    },
    {
      "cell_type": "markdown",
      "metadata": {
        "id": "-XrnPD6yJN-N"
      },
      "source": [
        "<h3><b>Inequality</b></h3><br>To check if two values are not equal in comparision, we use: <h6>\"  <b>!=</b>  \"  sign.</h6>"
      ]
    },
    {
      "cell_type": "code",
      "execution_count": null,
      "metadata": {
        "id": "54pe-meOTEBo"
      },
      "outputs": [],
      "source": [
        "2!=2"
      ]
    },
    {
      "cell_type": "code",
      "execution_count": null,
      "metadata": {
        "id": "M7Qn6U5GJC94"
      },
      "outputs": [],
      "source": [
        "2!=3"
      ]
    },
    {
      "cell_type": "code",
      "execution_count": null,
      "metadata": {
        "id": "57-4wJNAJE9w"
      },
      "outputs": [],
      "source": [
        "'2'!=2"
      ]
    },
    {
      "cell_type": "code",
      "execution_count": null,
      "metadata": {
        "id": "k8dYMy0QJZqF"
      },
      "outputs": [],
      "source": [
        "'Hello'!='hello'"
      ]
    },
    {
      "cell_type": "markdown",
      "metadata": {
        "id": "z-WN5OQ-K1S8"
      },
      "source": [
        "Generally in Comparision. The question is always like, \"How does LHS compares to RHS?\". But not the other way around."
      ]
    },
    {
      "cell_type": "markdown",
      "metadata": {
        "id": "OxVKyw22Jxy7"
      },
      "source": [
        "<h3><b>Comparing operator</b></h3><br>To check if two values, we use:\n",
        "\n",
        "* <b><</b>  \"Less than\"\n",
        "* <b>></b>  \"More than\"\n",
        "* <b><=</b>  \"less than or Equal to\"\n",
        "* <b>>=</b>  \"More than or Equal to\"\n"
      ]
    },
    {
      "cell_type": "code",
      "execution_count": null,
      "metadata": {
        "id": "y9_ZS6_iJd_4"
      },
      "outputs": [],
      "source": [
        "#We are asking if 2 is greater than 3 which is false.\n",
        "2>3"
      ]
    },
    {
      "cell_type": "code",
      "execution_count": null,
      "metadata": {
        "id": "R8npwbkzLYJ4"
      },
      "outputs": [],
      "source": [
        "#We are asking if 2 is less than 3 which is true.\n",
        "2<3"
      ]
    },
    {
      "cell_type": "code",
      "execution_count": null,
      "metadata": {
        "id": "vbpHMFvqLZRH"
      },
      "outputs": [],
      "source": [
        "#We are asking if 2 is less than or equal to 3 which is true.\n",
        "2<=3"
      ]
    },
    {
      "cell_type": "code",
      "execution_count": null,
      "metadata": {
        "id": "QJsjpLn0LcYf"
      },
      "outputs": [],
      "source": [
        "#We are asking if 2 is greater than or equal to 3 which is false.\n",
        "2>=3"
      ]
    },
    {
      "cell_type": "markdown",
      "metadata": {
        "id": "S-RLUCz_Mcfq"
      },
      "source": [
        "To compare three or more values or variables we use comparasion operator with **Logical Operator**.<br>\n",
        "Logical Operator consists of three operators:\n",
        "* AND Logic (and) : requires all compared element to be true in order to return True, else it will return False.\n",
        "* OR Logic (or) : requires at least one of the compared element to be true to return True, else it will return False if all compared elements are False.\n",
        "* NOT Logic (not) : it inverts the boolean result (i.e putting **not** logic to a **True** boolean will result in **False** boolean."
      ]
    },
    {
      "cell_type": "markdown",
      "metadata": {
        "id": "HGIBn9dDhfOJ"
      },
      "source": [
        "This method is called \"**Chaining comparision operator with Logical Operator**\".<br>In this method we can logically compare dependent or independent values or variables.<br>By using this method we can create certain conditions by which can write a program to run in a specific way.<br><br><h3>Independent and dependent comparision:</h3>\n",
        "* Independent comparision means, we are comparing VoVs that are not related with each other.<br>(i.e. Comapring **2 > 3 (AND/OR) 'x' = 'y'**)\n",
        "* Dependent comparision means, we are comparing VoVs that are related with each other in some way.<br>(i.e. Comparing **2 > 3 (AND/OR) 3 > 4**).<br><br>Note: In the dependent comparision we used the number 3 in both cases. This is what it means to be a dependent comparision.\n"
      ]
    },
    {
      "cell_type": "code",
      "execution_count": null,
      "metadata": {
        "id": "tMVmpGf7kdkF"
      },
      "outputs": [],
      "source": [
        "#Some examples:\n",
        "2<3 and 3<4"
      ]
    },
    {
      "cell_type": "code",
      "execution_count": null,
      "metadata": {
        "id": "B_Fixf-Wkw37"
      },
      "outputs": [],
      "source": [
        "2<3 or 3<4"
      ]
    },
    {
      "cell_type": "code",
      "execution_count": null,
      "metadata": {
        "id": "KTvyPUDllKZJ"
      },
      "outputs": [],
      "source": [
        "2<3 and 3>4"
      ]
    },
    {
      "cell_type": "code",
      "execution_count": null,
      "metadata": {
        "id": "ou57dRN0lWTq"
      },
      "outputs": [],
      "source": [
        "2<3 or 3>4"
      ]
    },
    {
      "cell_type": "code",
      "execution_count": null,
      "metadata": {
        "id": "NjreiNHblYzx"
      },
      "outputs": [],
      "source": [
        "3<4 and 'Hello' == 'Hello'"
      ]
    },
    {
      "cell_type": "code",
      "execution_count": null,
      "metadata": {
        "id": "8FLsu-r-l6Jp"
      },
      "outputs": [],
      "source": [
        "3<4 and 'Hello' == 'hello'"
      ]
    },
    {
      "cell_type": "code",
      "execution_count": null,
      "metadata": {
        "id": "xVcPQzRJmAbJ"
      },
      "outputs": [],
      "source": [
        "3<4 or 'Hello' == 'Hello'"
      ]
    },
    {
      "cell_type": "code",
      "execution_count": null,
      "metadata": {
        "id": "J5EzuWtWmFqI"
      },
      "outputs": [],
      "source": [
        "3<4 or'Hello' == 'hello'"
      ]
    },
    {
      "cell_type": "code",
      "execution_count": null,
      "metadata": {
        "id": "LyvEWYu8mJ0Y"
      },
      "outputs": [],
      "source": [
        "# NOT LOGICAL OPERATOR \"not\"\n",
        "not(1==1)"
      ]
    },
    {
      "cell_type": "markdown",
      "metadata": {
        "id": "MNTzdsazpFeK"
      },
      "source": [
        "<h1>Control Flow :</h1><br>Control flow allows to write a program which helps it to run in a specific way. Control flow uses systax of colons and indentation. Indentation system is crucial in python and this is what makes it different from other programing language."
      ]
    },
    {
      "cell_type": "markdown",
      "metadata": {
        "id": "qHOlkRL8otCT"
      },
      "source": [
        "<h3>if, elif and else function.</h3>"
      ]
    },
    {
      "cell_type": "markdown",
      "metadata": {
        "id": "bPDoG0LbK6Rc"
      },
      "source": [
        "\"**If**\" syntax\n",
        "<pre>\n",
        "if some_condition:\n",
        "  # execute_some_code\n",
        "</pre>\n",
        "\n",
        "This syntax only executes one command if certain condition is true. It does not return anything if the condition is false."
      ]
    },
    {
      "cell_type": "code",
      "execution_count": null,
      "metadata": {
        "id": "ti-V9mLJRdv3"
      },
      "outputs": [],
      "source": [
        "#Example\n",
        "hungry=True\n",
        "if hungry:\n",
        "  print('I need food!')"
      ]
    },
    {
      "cell_type": "code",
      "execution_count": null,
      "metadata": {
        "id": "qg5qhColRzj4"
      },
      "outputs": [],
      "source": [
        "#notice how there is no returning of anything when the condition is false.\n",
        "hungry=False\n",
        "if hungry:\n",
        "  print('I need food!')"
      ]
    },
    {
      "cell_type": "code",
      "execution_count": null,
      "metadata": {
        "id": "820B5uO5Rz4l"
      },
      "outputs": [],
      "source": [
        "#Example with comparision.\n",
        "if 3<4:\n",
        "  print('This is correct!')"
      ]
    },
    {
      "cell_type": "code",
      "execution_count": null,
      "metadata": {
        "id": "dxP8ArObR0Ll"
      },
      "outputs": [],
      "source": [
        "#One more example.\n",
        "x=4+4+5-1\n",
        "if x==12:\n",
        "  print('Answer is correct!')\n"
      ]
    },
    {
      "cell_type": "markdown",
      "metadata": {
        "id": "jRngf2RjMTka"
      },
      "source": [
        "\"**If-Else**\" syntax\n",
        "<pre>\n",
        "if some_condition:\n",
        "  # execute_this_code\n",
        "else:\n",
        "  # execute_that_code\n",
        "</pre>\n",
        "This syntax have two commands. It execute one command if certain condition is true or else, it executes another command."
      ]
    },
    {
      "cell_type": "code",
      "execution_count": null,
      "metadata": {
        "id": "UgbiI_hRTRXd"
      },
      "outputs": [],
      "source": [
        "#Example\n",
        "hungry=True\n",
        "if hungry:\n",
        "  print('I need food!')\n",
        "else:\n",
        "  print('I am OK!')"
      ]
    },
    {
      "cell_type": "code",
      "execution_count": null,
      "metadata": {
        "id": "1JXXawccTRmN"
      },
      "outputs": [],
      "source": [
        "#Example\n",
        "hungry=False\n",
        "if hungry:\n",
        "  print('I need food!')\n",
        "else:\n",
        "  print('I am OK!')"
      ]
    },
    {
      "cell_type": "code",
      "execution_count": null,
      "metadata": {
        "id": "oZiFMuWWTR5O"
      },
      "outputs": [],
      "source": [
        "#Example\n",
        "if 3<4:\n",
        "  print('3 is less than 4 is true!')\n",
        "else:\n",
        "  print('3 is greater than 4 is false!')"
      ]
    },
    {
      "cell_type": "code",
      "execution_count": null,
      "metadata": {
        "id": "6LbE3GgATSRF"
      },
      "outputs": [],
      "source": [
        "#Example\n",
        "if 3>4:\n",
        "  print('3 is less than 4 is true!')\n",
        "else:\n",
        "  print('3 is greater than 4 is false!')"
      ]
    },
    {
      "cell_type": "code",
      "execution_count": null,
      "metadata": {
        "id": "8vpVR2nMUXmv"
      },
      "outputs": [],
      "source": [
        "#Example\n",
        "x=2+2-1\n",
        "if x==3:\n",
        "  print('Quick mafs!')\n",
        "else:\n",
        "  print('Mans feeling hot')"
      ]
    },
    {
      "cell_type": "markdown",
      "metadata": {
        "id": "hl0F3ufUNTj-"
      },
      "source": [
        "\"**Elif**\" syntax\n",
        "<pre>\n",
        "if some_condition:\n",
        "  # execute_this_code\n",
        "elif other_condition:\n",
        "  # execute_that_code\n",
        "else:\n",
        "  # execute_other_code\n",
        "</pre>\n",
        "This syntax can have multiple conditions under which multiple commands can be executed."
      ]
    },
    {
      "cell_type": "code",
      "execution_count": null,
      "metadata": {
        "id": "977qlnqDNc03"
      },
      "outputs": [],
      "source": [
        "location = 'utopia'\n",
        "if location=='shop':\n",
        "  print('I am at shop!')\n",
        "elif location=='bakery':\n",
        "  print('I am at bakery!')\n",
        "elif location=='store':\n",
        "  print('I am at store!')\n",
        "else:\n",
        "  print(\"I don't know where I am!\")"
      ]
    },
    {
      "cell_type": "markdown",
      "metadata": {
        "id": "0HHOeQKO2ad7"
      },
      "source": [
        "<h4><b>For Loop</b></h4><br>Many objects in python is iterable. That means the objects in python can go through many iteration. We can use iteration by using <b>For-Loop</b>.<br>\n",
        "<pre>\n",
        "<u>For-Loop</u> syntax\n",
        "\n",
        "my_iterable = [1,2,3]\n",
        "for item_name in my_iterable:\n",
        "  print('item_name')\n",
        "</pre>"
      ]
    },
    {
      "cell_type": "code",
      "execution_count": null,
      "metadata": {
        "id": "eLAQkDxH3CdD"
      },
      "outputs": [],
      "source": [
        "mylist=[1,2,3,4,5,6,7,8,9,10]\n",
        "for term in mylist:\n",
        "  print(term)"
      ]
    },
    {
      "cell_type": "code",
      "execution_count": null,
      "metadata": {
        "id": "KE8uSESG5vVF"
      },
      "outputs": [],
      "source": [
        "mylist=[1,2,3,4,5,6,7,8,9,10]\n",
        "for term in mylist:\n",
        "  print('Hello kitty!')"
      ]
    },
    {
      "cell_type": "code",
      "execution_count": null,
      "metadata": {
        "id": "LHYmy2Bp569w"
      },
      "outputs": [],
      "source": [
        "mylist1=['a','b','c','d','e','f','g','h']\n",
        "for term1 in mylist1:\n",
        "  print('BaoWao')"
      ]
    },
    {
      "cell_type": "code",
      "execution_count": null,
      "metadata": {
        "id": "a2gO_h7D6OdW"
      },
      "outputs": [],
      "source": [
        "for term in mylist:\n",
        "  if term % 2 == 0:\n",
        "    print(f'Even = {term}')\n",
        "  else:\n",
        "    print(f'Odd = {term}')"
      ]
    },
    {
      "cell_type": "code",
      "execution_count": null,
      "metadata": {
        "colab": {
          "base_uri": "https://localhost:8080/"
        },
        "id": "Lhj_0VXI7KHI",
        "outputId": "03de6cc9-5f40-4f8c-853e-45ba5e5c216b"
      },
      "outputs": [
        {
          "name": "stdout",
          "output_type": "stream",
          "text": [
            "55\n"
          ]
        }
      ],
      "source": [
        "mylist=[1,2,3,4,5,6,7,8,9,10]\n",
        "nums=0\n",
        "for terms in mylist:\n",
        "  nums=nums+terms\n",
        "\n",
        "print(nums)"
      ]
    },
    {
      "cell_type": "code",
      "execution_count": null,
      "metadata": {
        "colab": {
          "base_uri": "https://localhost:8080/"
        },
        "id": "b24GHjmH9cjc",
        "outputId": "4fd5de05-867d-4fd8-d063-48c0c71d04ce"
      },
      "outputs": [
        {
          "name": "stdout",
          "output_type": "stream",
          "text": [
            "1\n",
            "3\n",
            "6\n",
            "10\n",
            "15\n",
            "21\n",
            "28\n",
            "36\n",
            "45\n",
            "55\n"
          ]
        }
      ],
      "source": [
        "# just by placing print inside indentation of for loop results in drastic changes\n",
        "mylist=[1,2,3,4,5,6,7,8,9,10]\n",
        "nums=0\n",
        "for terms in mylist:\n",
        "  nums=nums+terms\n",
        "  print(nums)"
      ]
    },
    {
      "cell_type": "code",
      "execution_count": null,
      "metadata": {
        "colab": {
          "base_uri": "https://localhost:8080/"
        },
        "id": "2CyiWPny-Eje",
        "outputId": "574b68b4-c6d4-4a55-dca3-45768204548c"
      },
      "outputs": [
        {
          "name": "stdout",
          "output_type": "stream",
          "text": [
            "H\n",
            "e\n",
            "l\n",
            "l\n",
            "o\n",
            " \n",
            "W\n",
            "o\n",
            "r\n",
            "l\n",
            "d\n"
          ]
        }
      ],
      "source": [
        "mystring = 'Hello World'\n",
        "for letter in mystring:\n",
        "  print(letter)"
      ]
    },
    {
      "cell_type": "code",
      "execution_count": null,
      "metadata": {
        "colab": {
          "base_uri": "https://localhost:8080/"
        },
        "id": "Hp17WPK1_DMH",
        "outputId": "11fa6a18-cf55-4da0-a8f6-4c88b143d507"
      },
      "outputs": [
        {
          "name": "stdout",
          "output_type": "stream",
          "text": [
            "H\n",
            "e\n",
            "l\n",
            "l\n",
            "o\n",
            " \n",
            "W\n",
            "o\n",
            "r\n",
            "l\n",
            "d\n",
            "!\n"
          ]
        }
      ],
      "source": [
        "for letter in 'Hello World!':\n",
        "  print(letter)"
      ]
    },
    {
      "cell_type": "code",
      "execution_count": null,
      "metadata": {
        "colab": {
          "base_uri": "https://localhost:8080/"
        },
        "id": "3ONvxYhY_TV3",
        "outputId": "d129aa39-600f-4f10-c598-a1c1c4084888"
      },
      "outputs": [
        {
          "name": "stdout",
          "output_type": "stream",
          "text": [
            "Very Cool!\n",
            "Very Cool!\n",
            "Very Cool!\n",
            "Very Cool!\n",
            "Very Cool!\n",
            "Very Cool!\n",
            "Very Cool!\n",
            "Very Cool!\n",
            "Very Cool!\n",
            "Very Cool!\n",
            "Very Cool!\n"
          ]
        }
      ],
      "source": [
        "for _ in 'Cool World!':\n",
        "  print('Very Cool!')"
      ]
    },
    {
      "cell_type": "code",
      "execution_count": null,
      "metadata": {
        "colab": {
          "base_uri": "https://localhost:8080/"
        },
        "id": "-bz4DqLtAZ9r",
        "outputId": "0d9465c7-fb1c-4218-edd7-5abe19ee414f"
      },
      "outputs": [
        {
          "name": "stdout",
          "output_type": "stream",
          "text": [
            "1\n",
            "2\n",
            "3\n",
            "4\n",
            "5\n",
            "6\n",
            "7\n",
            "8\n",
            "9\n",
            "10\n"
          ]
        }
      ],
      "source": [
        "mylistup=[(1,2),(3,4),(5,6),(7,8),(9,10)]\n",
        "for (a,b) in mylistup:\n",
        "  print(a)\n",
        "  print(b)"
      ]
    },
    {
      "cell_type": "code",
      "execution_count": null,
      "metadata": {
        "colab": {
          "base_uri": "https://localhost:8080/"
        },
        "id": "ZP6YrDS9A55W",
        "outputId": "4ddea194-529b-4805-d209-e4aca4c969f2"
      },
      "outputs": [
        {
          "name": "stdout",
          "output_type": "stream",
          "text": [
            "1\n",
            "2\n",
            "3\n",
            "4\n",
            "5\n",
            "6\n",
            "7\n",
            "8\n",
            "9\n",
            "10\n",
            "11\n",
            "12\n",
            "13\n",
            "14\n",
            "15\n"
          ]
        }
      ],
      "source": [
        "mylistup1=[(1,2,3),(4,5,6),(7,8,9),(10,11,12),(13,14,15)]\n",
        "for (a,b,c) in mylistup1:\n",
        "  print(a)\n",
        "  print(b)\n",
        "  print(c)"
      ]
    },
    {
      "cell_type": "code",
      "execution_count": null,
      "metadata": {
        "colab": {
          "base_uri": "https://localhost:8080/"
        },
        "id": "Ooy8nxqjiuc2",
        "outputId": "b7db341a-8de6-4cf5-cde6-9be815754409"
      },
      "outputs": [
        {
          "name": "stdout",
          "output_type": "stream",
          "text": [
            "k1\n",
            "k2\n",
            "k3\n"
          ]
        }
      ],
      "source": [
        "mydit1={'k1':1,'k2':2,'k3':3}\n",
        "for items in mydit1:\n",
        "  print(items)"
      ]
    },
    {
      "cell_type": "code",
      "execution_count": null,
      "metadata": {
        "colab": {
          "base_uri": "https://localhost:8080/"
        },
        "id": "sH9ZxBzmkpU1",
        "outputId": "43c0917c-9bcb-4aa1-f478-02e9ad8e085d"
      },
      "outputs": [
        {
          "name": "stdout",
          "output_type": "stream",
          "text": [
            "('k1', 1)\n",
            "('k2', 2)\n",
            "('k3', 3)\n"
          ]
        }
      ],
      "source": [
        "for items in mydit1.items():\n",
        "  print(items)"
      ]
    },
    {
      "cell_type": "code",
      "execution_count": null,
      "metadata": {
        "colab": {
          "base_uri": "https://localhost:8080/"
        },
        "id": "F0X3s5f9kw-V",
        "outputId": "dcf25d7a-9241-4d55-a51e-9d439434ba6b"
      },
      "outputs": [
        {
          "name": "stdout",
          "output_type": "stream",
          "text": [
            "k1\n",
            "k2\n",
            "k3\n"
          ]
        }
      ],
      "source": [
        "for items in mydit1.keys():\n",
        "  print(items)"
      ]
    },
    {
      "cell_type": "code",
      "execution_count": null,
      "metadata": {
        "colab": {
          "base_uri": "https://localhost:8080/"
        },
        "id": "kQkLZKorlC-E",
        "outputId": "c1d6dc38-c2c6-4bf6-d381-84896949a9b0"
      },
      "outputs": [
        {
          "name": "stdout",
          "output_type": "stream",
          "text": [
            "1\n",
            "2\n",
            "3\n"
          ]
        }
      ],
      "source": [
        "for items in mydit1.values():\n",
        "  print(items)"
      ]
    },
    {
      "cell_type": "code",
      "execution_count": null,
      "metadata": {
        "colab": {
          "base_uri": "https://localhost:8080/"
        },
        "id": "fvUwMkc-lKY8",
        "outputId": "49a197a7-9cf3-4df6-d62f-a3e14ead1b9e"
      },
      "outputs": [
        {
          "name": "stdout",
          "output_type": "stream",
          "text": [
            "k1\n",
            "1\n",
            "k2\n",
            "2\n",
            "k3\n",
            "3\n"
          ]
        }
      ],
      "source": [
        "for keys,values in mydit1.items():\n",
        "  print(keys)\n",
        "  print(values)"
      ]
    },
    {
      "cell_type": "markdown",
      "metadata": {
        "id": "spyQ7m9tVfHc"
      },
      "source": [
        "<h4><b>While Loop</b></h4><br>While loop code will continue to execute a block of code <b>\"while\"</b> a particular condition is true.<br>Example scenario,\n",
        "<ul>\n",
        "<li>while my pool is not full, keep filling the water.</li>\n",
        "<li>while my cat is not hungry, keep feeding my cats.</li>\n",
        "</ul><br><pre>\n",
        "<u>while-loop syntax:</u><br>\n",
        "while some_boolean_condition:\n",
        "  #do_something"
      ]
    },
    {
      "cell_type": "markdown",
      "metadata": {
        "id": "N338o0qwX_s3"
      },
      "source": [
        "while-loop can be used with else statement also.\n",
        "<pre>\n",
        "<u>while-loop with else statement:</u><br>\n",
        "while some_boolean_condition:\n",
        "  #do_this_thing\n",
        "else:\n",
        "  #do_that_thing\n",
        "</pre>"
      ]
    },
    {
      "cell_type": "code",
      "execution_count": null,
      "metadata": {
        "colab": {
          "base_uri": "https://localhost:8080/"
        },
        "id": "ok8_kXqNl3vs",
        "outputId": "91988158-f7e2-44e0-973f-9c87825b8934"
      },
      "outputs": [
        {
          "name": "stdout",
          "output_type": "stream",
          "text": [
            "**filling @0lv**\n",
            "**filling @1lv**\n",
            "**filling @2lv**\n",
            "**filling @3lv**\n",
            "**filling @4lv**\n",
            "**filling @5lv**\n",
            "**filling @6lv**\n",
            "**filling @7lv**\n",
            "**filling @8lv**\n",
            "**filling @9lv**\n"
          ]
        }
      ],
      "source": [
        "#examples\n",
        "x=0\n",
        "while x<10:\n",
        "  print(f\"**filling @{x}lv**\")\n",
        "  x+=1"
      ]
    },
    {
      "cell_type": "code",
      "execution_count": null,
      "metadata": {
        "colab": {
          "base_uri": "https://localhost:8080/"
        },
        "id": "xz3xTRzDZX87",
        "outputId": "27ec7d65-b6b5-4e4f-e860-53b4d0e25c71"
      },
      "outputs": [
        {
          "name": "stdout",
          "output_type": "stream",
          "text": [
            "**filling 0level**\n",
            "**filling 1level**\n",
            "**filling 2level**\n",
            "**filling 3level**\n",
            "**filling 4level**\n",
            "**filling 5level**\n",
            "**filling 6level**\n",
            "**filling 7level**\n",
            "**filling 8level**\n",
            "**filling 9level**\n",
            "The tank is full @ 10 level\n"
          ]
        }
      ],
      "source": [
        "x=0\n",
        "while x<10:\n",
        "  print(f\"**filling {x}level**\")\n",
        "  x+=1\n",
        "else:\n",
        "  print(f\"The tank is full @ {x} level\")"
      ]
    },
    {
      "cell_type": "markdown",
      "metadata": {
        "id": "jviE-Rdhc6YX"
      },
      "source": [
        "<h3>Break, Continue, Pass</h3><br>These statements adds more functionality to the loop functions. These are as follows:<br><br>\n",
        "<li>break : Brakes out of current closest enclosing loop (it breaks out of loop at specific condition).</li>\n",
        "<li>continue : Goes to the top of current enclosing loop (it skips iteration at specific condition).</li>\n",
        "<li>pass : Does nothing at all (it ignores/pass the loop function, used mostly for putting placeholder).</li>"
      ]
    },
    {
      "cell_type": "code",
      "execution_count": null,
      "metadata": {
        "colab": {
          "base_uri": "https://localhost:8080/"
        },
        "id": "P2V_es62eWyd",
        "outputId": "bb9e935f-a5a7-4eff-f560-a195e35acf95"
      },
      "outputs": [
        {
          "name": "stdout",
          "output_type": "stream",
          "text": [
            "placeholder\n"
          ]
        }
      ],
      "source": [
        "#Example of pass.\n",
        "x = [1,2,3]\n",
        "for items in x:\n",
        "  pass\n",
        "\n",
        "print('placeholder')"
      ]
    },
    {
      "cell_type": "code",
      "execution_count": null,
      "metadata": {
        "colab": {
          "base_uri": "https://localhost:8080/"
        },
        "id": "RPxDGHS9fj7F",
        "outputId": "be375c15-9788-4ac6-d0fb-400504d73d5c"
      },
      "outputs": [
        {
          "name": "stdout",
          "output_type": "stream",
          "text": [
            "m\n",
            "i\n",
            "i\n",
            "i\n",
            "p\n",
            "p\n",
            "i\n"
          ]
        }
      ],
      "source": [
        "#Example of continue.\n",
        "mystring1=\"missisippi\"\n",
        "for items in mystring1:\n",
        "  if items == 's':\n",
        "    continue\n",
        "  print(items)"
      ]
    },
    {
      "cell_type": "code",
      "execution_count": null,
      "metadata": {
        "colab": {
          "base_uri": "https://localhost:8080/"
        },
        "id": "LlflQUcXgKHi",
        "outputId": "1af2c278-7657-4c76-a5fc-1aa775933a64"
      },
      "outputs": [
        {
          "name": "stdout",
          "output_type": "stream",
          "text": [
            "m\n",
            "i\n"
          ]
        }
      ],
      "source": [
        "#Example of break.\n",
        "mystring1=\"missisippi\"\n",
        "for items in mystring1:\n",
        "  if items == 's':\n",
        "    break\n",
        "  print(items)"
      ]
    },
    {
      "cell_type": "markdown",
      "metadata": {
        "id": "pVSExTjGh6h3"
      },
      "source": [
        "Useful operators in python.\n",
        "* Range.\n",
        "* \n",
        "* \n",
        "* "
      ]
    },
    {
      "cell_type": "code",
      "execution_count": null,
      "metadata": {
        "colab": {
          "base_uri": "https://localhost:8080/"
        },
        "id": "CiLgx7b0hMnS",
        "outputId": "2872bc51-eed5-43ce-8ffd-e9fadde93105"
      },
      "outputs": [
        {
          "name": "stdout",
          "output_type": "stream",
          "text": [
            "0\n",
            "1\n",
            "2\n",
            "3\n",
            "4\n",
            "5\n",
            "6\n",
            "7\n",
            "8\n",
            "9\n"
          ]
        }
      ],
      "source": [
        "#Range\n",
        "for num in range(0,10,1):\n",
        "  print(num)"
      ]
    },
    {
      "cell_type": "code",
      "execution_count": null,
      "metadata": {
        "colab": {
          "base_uri": "https://localhost:8080/"
        },
        "id": "Zk3Cd1SyjWfy",
        "outputId": "14468597-886c-46b0-bd34-4a454a133ac8"
      },
      "outputs": [
        {
          "data": {
            "text/plain": [
              "[0, 1, 2, 3, 4, 5, 6, 7, 8, 9]"
            ]
          },
          "execution_count": 34,
          "metadata": {},
          "output_type": "execute_result"
        }
      ],
      "source": [
        "list(range(0,10,1))"
      ]
    },
    {
      "cell_type": "code",
      "execution_count": null,
      "metadata": {
        "colab": {
          "base_uri": "https://localhost:8080/"
        },
        "id": "PD4CHxMBjkk4",
        "outputId": "3b6b5447-033b-4ef0-bb08-a62660ea1d59"
      },
      "outputs": [
        {
          "data": {
            "text/plain": [
              "[10, 9, 8, 7, 6, 5, 4, 3, 2, 1]"
            ]
          },
          "execution_count": 37,
          "metadata": {},
          "output_type": "execute_result"
        }
      ],
      "source": [
        "list(range(10,0,-1))"
      ]
    },
    {
      "cell_type": "code",
      "execution_count": null,
      "metadata": {
        "colab": {
          "base_uri": "https://localhost:8080/"
        },
        "id": "ZEZ_IXc3juBZ",
        "outputId": "8af355bd-26a6-48fc-e954-17ac6354d3a3"
      },
      "outputs": [
        {
          "name": "stdout",
          "output_type": "stream",
          "text": [
            "at position 0, the letter is a\n",
            "at position 1, the letter is b\n",
            "at position 2, the letter is c\n",
            "at position 3, the letter is d\n",
            "at position 4, the letter is e\n",
            "at position 5, the letter is f\n",
            "at position 6, the letter is g\n",
            "at position 7, the letter is h\n",
            "at position 8, the letter is i\n",
            "at position 9, the letter is j\n",
            "at position 10, the letter is k\n",
            "at position 11, the letter is l\n",
            "at position 12, the letter is m\n",
            "at position 13, the letter is n\n",
            "at position 14, the letter is o\n",
            "at position 15, the letter is p\n",
            "at position 16, the letter is q\n",
            "at position 17, the letter is r\n",
            "at position 18, the letter is s\n",
            "at position 19, the letter is t\n",
            "at position 20, the letter is u\n",
            "at position 21, the letter is v\n",
            "at position 22, the letter is w\n",
            "at position 23, the letter is x\n",
            "at position 24, the letter is y\n",
            "at position 25, the letter is z\n"
          ]
        }
      ],
      "source": [
        "index_count=0\n",
        "for letter in 'abcdefghijklmnopqrstuvwxyz':\n",
        "  print(f\"at position {index_count}, the letter is {letter}\")\n",
        "  index_count+=1"
      ]
    },
    {
      "cell_type": "code",
      "execution_count": null,
      "metadata": {
        "colab": {
          "base_uri": "https://localhost:8080/"
        },
        "id": "A-83EKk3ke3y",
        "outputId": "6702cc1a-8306-483d-f76a-ab8e3acc309d"
      },
      "outputs": [
        {
          "name": "stdout",
          "output_type": "stream",
          "text": [
            "a\n",
            "b\n",
            "c\n",
            "d\n",
            "e\n"
          ]
        }
      ],
      "source": [
        "index_count=0\n",
        "word='abcde'\n",
        "for letter in word:\n",
        "  print(word[index_count])\n",
        "  index_count+=1"
      ]
    },
    {
      "cell_type": "code",
      "execution_count": null,
      "metadata": {
        "colab": {
          "base_uri": "https://localhost:8080/"
        },
        "id": "DiweOrToKUOY",
        "outputId": "c612a0e9-52fe-4834-fa51-84576a9914e4"
      },
      "outputs": [
        {
          "name": "stdout",
          "output_type": "stream",
          "text": [
            "(0, 'a')\n",
            "(1, 'b')\n",
            "(2, 'c')\n",
            "(3, 'd')\n",
            "(4, 'e')\n"
          ]
        }
      ],
      "source": [
        "word='abcde'\n",
        "for letter in enumerate(word):\n",
        "  print(letter)"
      ]
    },
    {
      "cell_type": "code",
      "execution_count": null,
      "metadata": {
        "colab": {
          "base_uri": "https://localhost:8080/"
        },
        "id": "1jyAnoNkK2lO",
        "outputId": "71dd6891-d733-48aa-8dce-7661f6ab7227"
      },
      "outputs": [
        {
          "name": "stdout",
          "output_type": "stream",
          "text": [
            "0\n",
            "a\n",
            "\n",
            "\n",
            "1\n",
            "b\n",
            "\n",
            "\n",
            "2\n",
            "c\n",
            "\n",
            "\n",
            "3\n",
            "d\n",
            "\n",
            "\n",
            "4\n",
            "e\n",
            "\n",
            "\n"
          ]
        }
      ],
      "source": [
        "word='abcde'\n",
        "for a,b in enumerate(word):\n",
        "  print(a)\n",
        "  print(b)\n",
        "  print('\\n')"
      ]
    },
    {
      "cell_type": "code",
      "execution_count": null,
      "metadata": {
        "id": "A2PaQntSLZcj"
      },
      "outputs": [],
      "source": [
        "mylist1=[0,1,2,3,4,5]\n",
        "mylist2=['a','b','c']\n",
        "mylist3=[100,200,300]"
      ]
    },
    {
      "cell_type": "code",
      "execution_count": null,
      "metadata": {
        "colab": {
          "base_uri": "https://localhost:8080/"
        },
        "id": "tEaj-CvNNkv4",
        "outputId": "24c2d57b-1a33-4af3-c1b9-2b0b4219772e"
      },
      "outputs": [
        {
          "name": "stdout",
          "output_type": "stream",
          "text": [
            "(0, 'a')\n",
            "(1, 'b')\n",
            "(2, 'c')\n"
          ]
        }
      ],
      "source": [
        "for terms in zip(mylist1,mylist2):\n",
        "  print(terms)"
      ]
    },
    {
      "cell_type": "code",
      "execution_count": null,
      "metadata": {
        "colab": {
          "base_uri": "https://localhost:8080/"
        },
        "id": "N6iuitjPN2gP",
        "outputId": "02628e30-9a21-4ac7-a2e5-38c505e8063d"
      },
      "outputs": [
        {
          "name": "stdout",
          "output_type": "stream",
          "text": [
            "0\n",
            "a\n",
            "\n",
            "1\n",
            "b\n",
            "\n",
            "2\n",
            "c\n",
            "\n"
          ]
        }
      ],
      "source": [
        "for a,b in zip(mylist1,mylist2):\n",
        "  print(a)\n",
        "  print(b)\n",
        "  print('')"
      ]
    },
    {
      "cell_type": "code",
      "execution_count": null,
      "metadata": {
        "colab": {
          "base_uri": "https://localhost:8080/"
        },
        "id": "k5O1A9ByOATn",
        "outputId": "183da924-e05c-4a1a-bdac-4f059a034740"
      },
      "outputs": [
        {
          "name": "stdout",
          "output_type": "stream",
          "text": [
            "(0, 'a', 100)\n",
            "(1, 'b', 200)\n",
            "(2, 'c', 300)\n"
          ]
        }
      ],
      "source": [
        "for terms in zip(mylist1,mylist2,mylist3):\n",
        "  print(terms)"
      ]
    },
    {
      "cell_type": "code",
      "execution_count": null,
      "metadata": {
        "colab": {
          "base_uri": "https://localhost:8080/"
        },
        "id": "8XLsIeGbPD2i",
        "outputId": "e4e6c0e9-a106-4393-9d2b-df89cc8a4a57"
      },
      "outputs": [
        {
          "data": {
            "text/plain": [
              "[(0, 'a', 100), (1, 'b', 200), (2, 'c', 300)]"
            ]
          },
          "execution_count": 28,
          "metadata": {},
          "output_type": "execute_result"
        }
      ],
      "source": [
        "list(zip(mylist1,mylist2,mylist3))"
      ]
    },
    {
      "cell_type": "code",
      "execution_count": null,
      "metadata": {
        "colab": {
          "base_uri": "https://localhost:8080/"
        },
        "id": "pF4zy26MP3Qh",
        "outputId": "85793526-b8ca-443f-8db5-1f5d525c9d80"
      },
      "outputs": [
        {
          "data": {
            "text/plain": [
              "True"
            ]
          },
          "execution_count": 29,
          "metadata": {},
          "output_type": "execute_result"
        }
      ],
      "source": [
        "'x' in ['x','y','z']"
      ]
    },
    {
      "cell_type": "code",
      "execution_count": null,
      "metadata": {
        "colab": {
          "base_uri": "https://localhost:8080/"
        },
        "id": "0Jpwmkm_a3WX",
        "outputId": "5e740a76-80aa-4f91-941e-a284355d257e"
      },
      "outputs": [
        {
          "data": {
            "text/plain": [
              "100"
            ]
          },
          "execution_count": 30,
          "metadata": {},
          "output_type": "execute_result"
        }
      ],
      "source": [
        "min(mylist3)"
      ]
    },
    {
      "cell_type": "code",
      "execution_count": null,
      "metadata": {
        "colab": {
          "base_uri": "https://localhost:8080/"
        },
        "id": "05GMrm-MbPdW",
        "outputId": "bda78664-a18a-4df8-b9d6-18c5b4c6ac4e"
      },
      "outputs": [
        {
          "data": {
            "text/plain": [
              "300"
            ]
          },
          "execution_count": 31,
          "metadata": {},
          "output_type": "execute_result"
        }
      ],
      "source": [
        "max(mylist3)"
      ]
    },
    {
      "cell_type": "code",
      "execution_count": null,
      "metadata": {
        "id": "VHuNaUnFbSX-"
      },
      "outputs": [],
      "source": [
        "from random import shuffle"
      ]
    },
    {
      "cell_type": "code",
      "execution_count": null,
      "metadata": {
        "id": "3-Igaq0ubux-"
      },
      "outputs": [],
      "source": [
        "mylist4=[1,2,3,4,5,6,7,8,9,0,10,11,12,13,14,15,16,17,18,19,20]"
      ]
    },
    {
      "cell_type": "code",
      "execution_count": null,
      "metadata": {
        "id": "EawiG13Db4je"
      },
      "outputs": [],
      "source": [
        "shuffle(mylist4)"
      ]
    },
    {
      "cell_type": "code",
      "execution_count": null,
      "metadata": {
        "colab": {
          "base_uri": "https://localhost:8080/"
        },
        "id": "vxQULgIHb7j-",
        "outputId": "d38ee796-7fb8-4650-b6a9-26ab6705770c"
      },
      "outputs": [
        {
          "data": {
            "text/plain": [
              "[14, 11, 15, 3, 16, 6, 10, 1, 4, 17, 12, 19, 0, 18, 5, 20, 9, 8, 7, 2, 13]"
            ]
          },
          "execution_count": 35,
          "metadata": {},
          "output_type": "execute_result"
        }
      ],
      "source": [
        "mylist4"
      ]
    },
    {
      "cell_type": "code",
      "execution_count": null,
      "metadata": {
        "colab": {
          "base_uri": "https://localhost:8080/"
        },
        "id": "xblvkpLrb-Qm",
        "outputId": "2d955c43-a849-42c8-fd3d-ef94ff9e94f2"
      },
      "outputs": [
        {
          "data": {
            "text/plain": [
              "[14, 11, 15, 3, 16, 6, 10, 1, 4, 17, 12, 19, 0, 18, 5, 20, 9, 8, 7, 2, 13]"
            ]
          },
          "execution_count": 36,
          "metadata": {},
          "output_type": "execute_result"
        }
      ],
      "source": [
        "mylist4"
      ]
    },
    {
      "cell_type": "code",
      "execution_count": null,
      "metadata": {
        "id": "P0KCm-TucBN-"
      },
      "outputs": [],
      "source": [
        "from random import randint"
      ]
    },
    {
      "cell_type": "code",
      "execution_count": null,
      "metadata": {
        "colab": {
          "base_uri": "https://localhost:8080/"
        },
        "id": "t88qOUtncY9-",
        "outputId": "5a391ef1-1168-4e47-9794-4a1d45843ba9"
      },
      "outputs": [
        {
          "data": {
            "text/plain": [
              "87"
            ]
          },
          "execution_count": 38,
          "metadata": {},
          "output_type": "execute_result"
        }
      ],
      "source": [
        "randint(0,100)"
      ]
    },
    {
      "cell_type": "code",
      "execution_count": null,
      "metadata": {
        "colab": {
          "base_uri": "https://localhost:8080/"
        },
        "id": "1irD-WIfcdPn",
        "outputId": "d4e744e3-2699-42da-e70a-d98b150e1488"
      },
      "outputs": [
        {
          "data": {
            "text/plain": [
              "41"
            ]
          },
          "execution_count": 39,
          "metadata": {},
          "output_type": "execute_result"
        }
      ],
      "source": [
        "randint(0,100)"
      ]
    },
    {
      "cell_type": "code",
      "execution_count": null,
      "metadata": {
        "id": "XO-wmP1uciL-"
      },
      "outputs": [],
      "source": [
        "random_num = randint(0,100)"
      ]
    },
    {
      "cell_type": "code",
      "execution_count": null,
      "metadata": {
        "colab": {
          "base_uri": "https://localhost:8080/"
        },
        "id": "SPoOB0L0dmKP",
        "outputId": "4dfd7622-8a82-4e36-d465-8ca86fb29e62"
      },
      "outputs": [
        {
          "data": {
            "text/plain": [
              "93"
            ]
          },
          "execution_count": 41,
          "metadata": {},
          "output_type": "execute_result"
        }
      ],
      "source": [
        "random_num"
      ]
    },
    {
      "cell_type": "code",
      "execution_count": null,
      "metadata": {
        "colab": {
          "base_uri": "https://localhost:8080/"
        },
        "id": "-4HuF45udoUo",
        "outputId": "ece7416e-a3d0-4c41-b153-9ea1696fd1b9"
      },
      "outputs": [
        {
          "name": "stdout",
          "output_type": "stream",
          "text": [
            "Enter a number: 100\n"
          ]
        }
      ],
      "source": [
        "entry1=input('Enter a number: ')"
      ]
    },
    {
      "cell_type": "code",
      "execution_count": null,
      "metadata": {
        "colab": {
          "base_uri": "https://localhost:8080/",
          "height": 35
        },
        "id": "-JJYSHwSd6G_",
        "outputId": "89aa64a0-d8a0-4783-a260-e90f3dbcf948"
      },
      "outputs": [
        {
          "data": {
            "application/vnd.google.colaboratory.intrinsic+json": {
              "type": "string"
            },
            "text/plain": [
              "'100'"
            ]
          },
          "execution_count": 43,
          "metadata": {},
          "output_type": "execute_result"
        }
      ],
      "source": [
        "entry1"
      ]
    },
    {
      "cell_type": "code",
      "execution_count": null,
      "metadata": {
        "colab": {
          "base_uri": "https://localhost:8080/"
        },
        "id": "G3cRnsdZd903",
        "outputId": "2d28b0e1-6b1f-49d9-86dd-152b1e7d45b9"
      },
      "outputs": [
        {
          "name": "stdout",
          "output_type": "stream",
          "text": [
            "Enter value for x : 50\n",
            "Enter value for y : 50\n"
          ]
        },
        {
          "data": {
            "text/plain": [
              "100"
            ]
          },
          "execution_count": 5,
          "metadata": {},
          "output_type": "execute_result"
        }
      ],
      "source": [
        "x=int(input(\"Enter value for x : \"))\n",
        "y=int(input(\"Enter value for y : \"))\n",
        "z=x+y\n",
        "z"
      ]
    },
    {
      "cell_type": "code",
      "execution_count": null,
      "metadata": {
        "colab": {
          "base_uri": "https://localhost:8080/"
        },
        "id": "a75m8txYxSX1",
        "outputId": "4449d1e1-841c-485b-9886-64a1e5deddc6"
      },
      "outputs": [
        {
          "name": "stdout",
          "output_type": "stream",
          "text": [
            "What is your name?\n",
            "\tAzam\n",
            "Welcome, Azam\n"
          ]
        }
      ],
      "source": [
        "name=input('What is your name?\\n\\t')\n",
        "print(f\"Welcome, {name}\")"
      ]
    },
    {
      "cell_type": "code",
      "execution_count": null,
      "metadata": {
        "colab": {
          "base_uri": "https://localhost:8080/"
        },
        "id": "HcwfH0wx2EGp",
        "outputId": "cf69257f-4321-4988-8cd6-d3263b5a138c"
      },
      "outputs": [
        {
          "data": {
            "text/plain": [
              "['H',\n",
              " 'e',\n",
              " 'l',\n",
              " 'l',\n",
              " 'o',\n",
              " ',',\n",
              " ' ',\n",
              " 'E',\n",
              " 'v',\n",
              " 'e',\n",
              " 'r',\n",
              " 'y',\n",
              " 'n',\n",
              " 'y',\n",
              " 'a',\n",
              " 'n',\n",
              " '!']"
            ]
          },
          "execution_count": 11,
          "metadata": {},
          "output_type": "execute_result"
        }
      ],
      "source": [
        "mystring='Hello, Everynyan!'\n",
        "mylist5=[]\n",
        "for letter in mystring:\n",
        "  mylist5.append(letter)\n",
        "mylist5"
      ]
    },
    {
      "cell_type": "code",
      "execution_count": null,
      "metadata": {
        "colab": {
          "base_uri": "https://localhost:8080/"
        },
        "id": "WkD6-3nY7emj",
        "outputId": "a83b8583-2373-493b-93fb-d602b5190588"
      },
      "outputs": [
        {
          "data": {
            "text/plain": [
              "['H',\n",
              " 'e',\n",
              " 'l',\n",
              " 'l',\n",
              " 'o',\n",
              " ',',\n",
              " ' ',\n",
              " 'E',\n",
              " 'v',\n",
              " 'e',\n",
              " 'r',\n",
              " 'y',\n",
              " 'n',\n",
              " 'y',\n",
              " 'a',\n",
              " 'n',\n",
              " '!']"
            ]
          },
          "execution_count": 12,
          "metadata": {},
          "output_type": "execute_result"
        }
      ],
      "source": [
        "mylist6=[letter for letter in mystring]\n",
        "mylist6"
      ]
    },
    {
      "cell_type": "code",
      "execution_count": null,
      "metadata": {
        "id": "jg6zFJxe8HMh"
      },
      "outputs": [],
      "source": [
        "mylist1=[x for x in range(0,10)]"
      ]
    },
    {
      "cell_type": "code",
      "execution_count": null,
      "metadata": {
        "colab": {
          "base_uri": "https://localhost:8080/"
        },
        "id": "gZtsCbzcrYwg",
        "outputId": "06607dec-8ddd-4749-e80d-450ed5ccd1b7"
      },
      "outputs": [
        {
          "data": {
            "text/plain": [
              "[0, 1, 2, 3, 4, 5, 6, 7, 8, 9]"
            ]
          },
          "execution_count": 2,
          "metadata": {},
          "output_type": "execute_result"
        }
      ],
      "source": [
        "mylist1"
      ]
    },
    {
      "cell_type": "code",
      "execution_count": null,
      "metadata": {
        "id": "nOJoCdsNra8X"
      },
      "outputs": [],
      "source": [
        "mylist1=[x for x in range(0,10) if x%2==0]"
      ]
    },
    {
      "cell_type": "code",
      "execution_count": null,
      "metadata": {
        "colab": {
          "base_uri": "https://localhost:8080/"
        },
        "id": "5ZddJMPOrqHP",
        "outputId": "f6bea135-6525-469a-949c-56b189fcc54f"
      },
      "outputs": [
        {
          "data": {
            "text/plain": [
              "[0, 2, 4, 6, 8]"
            ]
          },
          "execution_count": 4,
          "metadata": {},
          "output_type": "execute_result"
        }
      ],
      "source": [
        "mylist1"
      ]
    },
    {
      "cell_type": "code",
      "execution_count": null,
      "metadata": {
        "id": "a8hbQz_Brrwn"
      },
      "outputs": [],
      "source": [
        "celcius=[-40,0,10,20,32.5,40]"
      ]
    },
    {
      "cell_type": "code",
      "execution_count": null,
      "metadata": {
        "colab": {
          "base_uri": "https://localhost:8080/"
        },
        "id": "fBgo6I2HsHKA",
        "outputId": "d1bf1f19-9411-4d25-8979-e658dd3c68e6"
      },
      "outputs": [
        {
          "data": {
            "text/plain": [
              "[-40.0, 32.0, 50.0, 68.0, 90.5, 104.0]"
            ]
          },
          "execution_count": 6,
          "metadata": {},
          "output_type": "execute_result"
        }
      ],
      "source": [
        "fahrenheit=[((9/5)*temp+32) for temp in celcius]\n",
        "fahrenheit"
      ]
    },
    {
      "cell_type": "code",
      "execution_count": null,
      "metadata": {
        "colab": {
          "base_uri": "https://localhost:8080/"
        },
        "id": "wq87HtzmseFp",
        "outputId": "10eabf47-23a5-440f-ad76-aa40dd1606dd"
      },
      "outputs": [
        {
          "data": {
            "text/plain": [
              "[-40.0, 32.0, 50.0, 68.0, 90.5, 104.0]"
            ]
          },
          "execution_count": 7,
          "metadata": {},
          "output_type": "execute_result"
        }
      ],
      "source": [
        "fahrenheit=[]\n",
        "for temp in celcius:\n",
        "  fahrenheit.append((9/5)*temp+32)\n",
        "\n",
        "fahrenheit"
      ]
    },
    {
      "cell_type": "code",
      "execution_count": null,
      "metadata": {
        "colab": {
          "base_uri": "https://localhost:8080/"
        },
        "id": "5qX_Y0jptOt6",
        "outputId": "a765acc1-804b-4f57-d6a5-861172b79459"
      },
      "outputs": [
        {
          "data": {
            "text/plain": [
              "[0, 'odd1', 2, 'odd3', 4, 'odd5', 6, 'odd7', 8, 'odd9', 10]"
            ]
          },
          "execution_count": 14,
          "metadata": {},
          "output_type": "execute_result"
        }
      ],
      "source": [
        "results=[x if x%2==0 else f\"odd{x}\" for x in range(0,11)]\n",
        "results"
      ]
    },
    {
      "cell_type": "code",
      "execution_count": null,
      "metadata": {
        "colab": {
          "base_uri": "https://localhost:8080/"
        },
        "id": "EXcH-rGjuG_r",
        "outputId": "b1130704-6a6e-40da-f49b-24d36b8519b2"
      },
      "outputs": [
        {
          "name": "stdout",
          "output_type": "stream",
          "text": [
            "1\n",
            "2\n"
          ]
        }
      ],
      "source": [
        "i = 1\n",
        "while True:\n",
        "  if i%3 == 0:\n",
        "    break\n",
        "  print(i)\n",
        "\n",
        "  i += 1"
      ]
    },
    {
      "cell_type": "code",
      "execution_count": null,
      "metadata": {
        "colab": {
          "base_uri": "https://localhost:8080/"
        },
        "id": "HWch49OKA30-",
        "outputId": "1874fd8d-9fec-4181-8e67-a0b09efe5e80"
      },
      "outputs": [
        {
          "data": {
            "text/plain": [
              "7"
            ]
          },
          "execution_count": 2,
          "metadata": {},
          "output_type": "execute_result"
        }
      ],
      "source": [
        "4 + 3 % 5"
      ]
    }
  ],
  "metadata": {
    "colab": {
      "provenance": []
    },
    "kernelspec": {
      "display_name": "Python 3",
      "name": "python3"
    },
    "language_info": {
      "name": "python"
    }
  },
  "nbformat": 4,
  "nbformat_minor": 0
}
